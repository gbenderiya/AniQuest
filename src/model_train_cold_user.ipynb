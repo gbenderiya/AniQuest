{
 "cells": [
  {
   "cell_type": "code",
   "execution_count": 16,
   "metadata": {},
   "outputs": [],
   "source": [
    "import pandas as pd\n",
    "\n",
    "# 文件路径\n",
    "input_path = \"C:/Users/15023/Desktop/IR/Project/user_data/final_anime_list.csv\"\n",
    "output_path = \"C:/Users/15023/Desktop/IR/Project/user_data/final_anime_list_cleaned.csv\"\n",
    "\n",
    "# 加载数据\n",
    "anime_data = pd.read_csv(input_path)\n",
    "\n",
    "# 定义要保留的列\n",
    "columns_to_keep = [\n",
    "    \"title\", \"score\", \"Synopsis\", \"Producers\", \"Studios\", \n",
    "    \"rank\", \"popularity\", \"favorites\", \"scored_by\", \"members\", \n",
    "    \"anime_id\"\n",
    "]\n",
    "\n",
    "# 创建一个新列 'gen'，汇总不为空的 'Genres' 和 'genre' 列的内容\n",
    "anime_data['gen'] = anime_data.apply(\n",
    "    lambda row: ','.join(sorted(set(\n",
    "        # 合并'Genres'和'genre'列的内容，并去除重复值\n",
    "        (row['Genres'].split(',') if pd.notnull(row['Genres']) else []) + \n",
    "        (row['genre'].split(',') if pd.notnull(row['genre']) else [])\n",
    "    ))), axis=1\n",
    ")\n",
    "\n",
    "# 删除原来的 'Genres' 和 'genre' 列\n",
    "anime_data_cleaned = anime_data.drop(columns=['Genres', 'genre'])\n",
    "\n",
    "# 保留指定的列，并包含新创建的 'gen' 列\n",
    "anime_data_cleaned = anime_data_cleaned[columns_to_keep + ['gen']]\n",
    "\n",
    "# 保存清理后的数据到新的CSV文件\n",
    "anime_data_cleaned.to_csv(output_path, index=False)\n",
    "\n"
   ]
  },
  {
   "cell_type": "code",
   "execution_count": 20,
   "metadata": {},
   "outputs": [
    {
     "name": "stderr",
     "output_type": "stream",
     "text": [
      "C:\\Users\\15023\\AppData\\Local\\Temp\\ipykernel_18544\\1159773207.py:25: FutureWarning: DataFrame.applymap has been deprecated. Use DataFrame.map instead.\n",
      "  unknown_counts = anime_data_cleaned.applymap(count_unknowns).sum()\n"
     ]
    },
    {
     "data": {
      "text/html": [
       "<div>\n",
       "<style scoped>\n",
       "    .dataframe tbody tr th:only-of-type {\n",
       "        vertical-align: middle;\n",
       "    }\n",
       "\n",
       "    .dataframe tbody tr th {\n",
       "        vertical-align: top;\n",
       "    }\n",
       "\n",
       "    .dataframe thead th {\n",
       "        text-align: right;\n",
       "    }\n",
       "</style>\n",
       "<table border=\"1\" class=\"dataframe\">\n",
       "  <thead>\n",
       "    <tr style=\"text-align: right;\">\n",
       "      <th></th>\n",
       "      <th>nulls</th>\n",
       "      <th>unknowns</th>\n",
       "    </tr>\n",
       "  </thead>\n",
       "  <tbody>\n",
       "    <tr>\n",
       "      <th>title</th>\n",
       "      <td>0</td>\n",
       "      <td>0</td>\n",
       "    </tr>\n",
       "    <tr>\n",
       "      <th>score</th>\n",
       "      <td>0</td>\n",
       "      <td>0</td>\n",
       "    </tr>\n",
       "    <tr>\n",
       "      <th>synopsis</th>\n",
       "      <td>0</td>\n",
       "      <td>172</td>\n",
       "    </tr>\n",
       "    <tr>\n",
       "      <th>producers</th>\n",
       "      <td>0</td>\n",
       "      <td>4918</td>\n",
       "    </tr>\n",
       "    <tr>\n",
       "      <th>studios</th>\n",
       "      <td>0</td>\n",
       "      <td>3535</td>\n",
       "    </tr>\n",
       "    <tr>\n",
       "      <th>rank</th>\n",
       "      <td>1334</td>\n",
       "      <td>0</td>\n",
       "    </tr>\n",
       "    <tr>\n",
       "      <th>popularity</th>\n",
       "      <td>0</td>\n",
       "      <td>0</td>\n",
       "    </tr>\n",
       "    <tr>\n",
       "      <th>favorites</th>\n",
       "      <td>0</td>\n",
       "      <td>0</td>\n",
       "    </tr>\n",
       "    <tr>\n",
       "      <th>scored_by</th>\n",
       "      <td>0</td>\n",
       "      <td>0</td>\n",
       "    </tr>\n",
       "    <tr>\n",
       "      <th>members</th>\n",
       "      <td>0</td>\n",
       "      <td>0</td>\n",
       "    </tr>\n",
       "    <tr>\n",
       "      <th>anime_id</th>\n",
       "      <td>0</td>\n",
       "      <td>0</td>\n",
       "    </tr>\n",
       "    <tr>\n",
       "      <th>gen</th>\n",
       "      <td>0</td>\n",
       "      <td>1409</td>\n",
       "    </tr>\n",
       "  </tbody>\n",
       "</table>\n",
       "</div>"
      ],
      "text/plain": [
       "            nulls  unknowns\n",
       "title           0         0\n",
       "score           0         0\n",
       "synopsis        0       172\n",
       "producers       0      4918\n",
       "studios         0      3535\n",
       "rank         1334         0\n",
       "popularity      0         0\n",
       "favorites       0         0\n",
       "scored_by       0         0\n",
       "members         0         0\n",
       "anime_id        0         0\n",
       "gen             0      1409"
      ]
     },
     "execution_count": 20,
     "metadata": {},
     "output_type": "execute_result"
    }
   ],
   "source": [
    "import pandas as pd\n",
    "import numpy as np\n",
    "\n",
    "# 假设您的数据集存储在以下路径\n",
    "anime_data = pd.read_csv('C:/Users/15023/Desktop/IR/Project/user_data/final_anime_list_cleaned.csv')\n",
    "\n",
    "# 将所有列名转换为小写\n",
    "anime_data.columns = [col.lower() for col in anime_data.columns]\n",
    "\n",
    "# 删除重复的列\n",
    "anime_data_cleaned = anime_data.loc[:, ~anime_data.columns.duplicated()]\n",
    "\n",
    "# 计算每一列中空值和\"unknown\"或\"unknowns\"（不区分大小写）值的数量\n",
    "nulls_and_unknowns = anime_data_cleaned.isnull().sum().to_frame(name='nulls')\n",
    "\n",
    "# 创建一个函数来计算每个单元格中 \"unknown\" 或 \"unknowns\"（不区分大小写）的数量\n",
    "def count_unknowns(cell):\n",
    "    if isinstance(cell, str):\n",
    "        lower_cell = cell.lower()\n",
    "        if 'unknown' in lower_cell or 'unknowns' in lower_cell:\n",
    "            return 1\n",
    "    return 0\n",
    "\n",
    "# 应用该函数并计算每列中 \"unknown\" 或 \"unknowns\" 的总数\n",
    "unknown_counts = anime_data_cleaned.applymap(count_unknowns).sum()\n",
    "\n",
    "# 将 \"unknown\" 和 \"unknowns\" 计数添加到结果 DataFrame\n",
    "nulls_and_unknowns['unknowns'] = unknown_counts\n",
    "\n",
    "nulls_and_unknowns\n",
    "\n"
   ]
  },
  {
   "cell_type": "code",
   "execution_count": 26,
   "metadata": {},
   "outputs": [
    {
     "name": "stdout",
     "output_type": "stream",
     "text": [
      "title         0\n",
      "score         0\n",
      "Synopsis      0\n",
      "Producers     0\n",
      "Studios       0\n",
      "rank          0\n",
      "popularity    0\n",
      "favorites     0\n",
      "scored_by     0\n",
      "members       0\n",
      "anime_id      0\n",
      "gen           0\n",
      "dtype: int64\n",
      "                             title  score  \\\n",
      "0                     Cowboy Bebop   8.81   \n",
      "1  Cowboy Bebop: Tengoku no Tobira   8.41   \n",
      "2                           Trigun   8.31   \n",
      "3               Witch Hunter Robin   7.34   \n",
      "4                     Eyeshield 21   8.05   \n",
      "\n",
      "                                            Synopsis  \\\n",
      "0  Crime is timeless. By the year 2071, humanity ...   \n",
      "1  Another day, another bounty—such is the life o...   \n",
      "2  Vash the Stampede is the man with a $$60,000,0...   \n",
      "3  Robin Sena is a powerful craft user drafted in...   \n",
      "4  Shy, reserved, and small-statured, Deimon High...   \n",
      "\n",
      "                                           Producers   Studios    rank  \\\n",
      "0                                      Bandai Visual   Sunrise    27.0   \n",
      "1                             Sunrise, Bandai Visual     Bones   157.0   \n",
      "2                               Victor Entertainment  Madhouse   234.0   \n",
      "3  Bandai Visual, Dentsu, Victor Entertainment, T...   Sunrise  2292.0   \n",
      "4  TV Tokyo, Nihon Ad Systems, TV Tokyo Music, Sh...    Gallop   487.0   \n",
      "\n",
      "   popularity  favorites  scored_by  members  anime_id  \\\n",
      "0          38      39145     365465   707773         1   \n",
      "1         438        706     111344   180246         5   \n",
      "2         138       9795     197843   373877         6   \n",
      "3        1104        524      31908    75017         7   \n",
      "4         812       1650      48825   106718        15   \n",
      "\n",
      "                                                 gen  \n",
      "0  [ Adventure, Award Winning, Comedy, Drama, Sci...  \n",
      "1            [ Drama, Mystery, Sci-Fi, Space,Action]  \n",
      "2  [ Adventure, Comedy, Drama, Sci-Fi, Shounen,Ac...  \n",
      "3  [ Drama, Magic, Mystery, Police, Supernatural,...  \n",
      "4           [ Comedy, Shounen, Sports,Action,Sports]  \n"
     ]
    }
   ],
   "source": [
    "import pandas as pd\n",
    "import numpy as np\n",
    "#处理 unknown 以及 rank null\n",
    "\n",
    "\n",
    "\n",
    "# 加载数据\n",
    "anime_data = pd.read_csv(\"C:/Users/15023/Desktop/IR/Project/user_data/final_anime_list_cleaned.csv\")\n",
    "\n",
    "# **处理 unknown 值**\n",
    "# synopsis: 填充缺失值为 \"No synopsis available.\"\n",
    "anime_data['Synopsis'] = anime_data['Synopsis'].fillna(\"No Synopsis available.\")\n",
    "\n",
    "# producers 和 studios: 替换 \"unknown\" 为 \"Not specified\"\n",
    "anime_data['Producers'] = anime_data['Producers'].replace(\"unknown\", \"Not specified\")\n",
    "anime_data['Studios'] = anime_data['Studios'].replace(\"unknown\", \"Not specified\")\n",
    "\n",
    "# genres: 替换 \"unknown\" 为 \"Other\"（可以转换为列表格式）\n",
    "anime_data['gen'] = anime_data['gen'].fillna(\"Other\").apply(lambda x: x.split(\", \") if isinstance(x, str) else [\"Other\"])\n",
    "\n",
    "# **处理 null 值**\n",
    "# rank: 用中位数填充\n",
    "anime_data['rank'] = anime_data['rank'].fillna(anime_data['rank'].median())\n",
    "\n",
    "# 验证清理后的数据\n",
    "print(anime_data.isnull().sum())\n",
    "print(anime_data.head())\n",
    "\n",
    "# 保存清理后的数据\n",
    "anime_data.to_csv(\"C:/Users/15023/Desktop/IR/Project/user_data/final_anime_list_cleaned_2nd.csv\", index=False)\n"
   ]
  },
  {
   "cell_type": "code",
   "execution_count": 27,
   "metadata": {},
   "outputs": [
    {
     "name": "stdout",
     "output_type": "stream",
     "text": [
      "Checking feature: score\n",
      "✔ score is numeric.\n",
      "✔ score has no missing values.\n",
      "---\n",
      "Checking feature: rank\n",
      "✔ rank is numeric.\n",
      "✔ rank has no missing values.\n",
      "---\n",
      "Checking feature: popularity\n",
      "✔ popularity is numeric.\n",
      "✔ popularity has no missing values.\n",
      "---\n",
      "Checking feature: favorites\n",
      "✔ favorites is numeric.\n",
      "✔ favorites has no missing values.\n",
      "---\n",
      "Checking feature: scored_by\n",
      "✔ scored_by is numeric.\n",
      "✔ scored_by has no missing values.\n",
      "---\n",
      "Checking feature: members\n",
      "✔ members is numeric.\n",
      "✔ members has no missing values.\n",
      "---\n"
     ]
    }
   ],
   "source": [
    "#数值型特征：score, rank, popularity, favorites, scored_by, members 都需要是数值型，并没有缺失值\n",
    "\n",
    "import pandas as pd\n",
    "\n",
    "# 加载数据\n",
    "anime_data = pd.read_csv(\"C:/Users/15023/Desktop/IR/Project/user_data/final_anime_list_cleaned_2nd.csv\")\n",
    "\n",
    "# 数值型特征列表\n",
    "numeric_features = ['score', 'rank', 'popularity', 'favorites', 'scored_by', 'members']\n",
    "\n",
    "# 检查每列是否为数值型并且没有缺失值\n",
    "def check_numeric_features(df, features):\n",
    "    for feature in features:\n",
    "        print(f\"Checking feature: {feature}\")\n",
    "        # 检查是否为数值型\n",
    "        if not pd.api.types.is_numeric_dtype(df[feature]):\n",
    "            print(f\"\\u2716 {feature} is not numeric.\")\n",
    "        else:\n",
    "            print(f\"\\u2714 {feature} is numeric.\")\n",
    "        # 检查是否有缺失值\n",
    "        missing_count = df[feature].isnull().sum()\n",
    "        if missing_count > 0:\n",
    "            print(f\"\\u2716 {feature} has {missing_count} missing values.\")\n",
    "        else:\n",
    "            print(f\"\\u2714 {feature} has no missing values.\")\n",
    "        print(\"---\")\n",
    "\n",
    "# 执行检查\n",
    "check_numeric_features(anime_data, numeric_features)"
   ]
  },
  {
   "cell_type": "code",
   "execution_count": 29,
   "metadata": {},
   "outputs": [
    {
     "name": "stderr",
     "output_type": "stream",
     "text": [
      "e:\\anaconda\\envs\\pytorch\\lib\\site-packages\\transformers\\models\\bert\\modeling_bert.py:440: UserWarning: 1Torch was not compiled with flash attention. (Triggered internally at ..\\aten\\src\\ATen\\native\\transformers\\cuda\\sdp_utils.cpp:263.)\n",
      "  attn_output = torch.nn.functional.scaled_dot_product_attention(\n"
     ]
    }
   ],
   "source": [
    "import pandas as pd\n",
    "from sentence_transformers import SentenceTransformer\n",
    "from sklearn.preprocessing import MultiLabelBinarizer\n",
    "import numpy as np\n",
    "#文本型特征 以及 类别型 特征预处理\n",
    "# 加载数据\n",
    "input_file = \"C:/Users/15023/Desktop/IR/Project/user_data/final_anime_list_cleaned_2nd.csv\"\n",
    "output_file = \"C:/Users/15023/Desktop/IR/Project/user_data/final_anime_list_cleaned_3rd.csv\"\n",
    "\n",
    "anime_data = pd.read_csv(input_file)\n",
    "\n",
    "# **1. 文本型特征处理**\n",
    "# 使用 SentenceTransformer 生成嵌入\n",
    "embedding_model = SentenceTransformer('all-MiniLM-L6-v2')\n",
    "\n",
    "# Convert `synopsis`, `producers`, `studios` into embeddings\n",
    "anime_data['synopsis_embedding'] = anime_data['Synopsis'].apply(\n",
    "    lambda x: embedding_model.encode(x) if isinstance(x, str) else np.zeros(384)\n",
    ")\n",
    "anime_data['producers_embedding'] = anime_data['Producers'].apply(\n",
    "    lambda x: embedding_model.encode(x) if isinstance(x, str) else np.zeros(384)\n",
    ")\n",
    "anime_data['studios_embedding'] = anime_data['Studios'].apply(\n",
    "    lambda x: embedding_model.encode(x) if isinstance(x, str) else np.zeros(384)\n",
    ")\n",
    "\n",
    "# **2. 类别型特征处理**\n",
    "# 将 `gen` 转换为多热编码\n",
    "anime_data['gen_list'] = anime_data['gen'].apply(\n",
    "    lambda x: x.split(\",\") if isinstance(x, str) else []\n",
    ")\n",
    "mlb = MultiLabelBinarizer()\n",
    "gen_encoded = mlb.fit_transform(anime_data['gen_list'])\n",
    "gen_encoded_df = pd.DataFrame(gen_encoded, columns=mlb.classes_)\n",
    "\n",
    "# 将编码结果合并回主表\n",
    "anime_data = pd.concat([anime_data, gen_encoded_df], axis=1)\n",
    "\n",
    "# 删除原始列（可选）\n",
    "anime_data.drop(columns=['gen', 'gen_list'], inplace=True)\n",
    "\n",
    "# 保存处理后的数据\n",
    "anime_data.to_csv(output_file, index=False)\n"
   ]
  },
  {
   "cell_type": "code",
   "execution_count": 31,
   "metadata": {},
   "outputs": [
    {
     "name": "stdout",
     "output_type": "stream",
     "text": [
      "     rank  rank_normalized  popularity_log  favorites_log  scored_by_log  \\\n",
      "0    27.0         0.002090        3.663562      10.575054      12.808929   \n",
      "1   157.0         0.012154        6.084499       6.561031      11.620389   \n",
      "2   234.0         0.018114        4.934474       9.189729      12.195234   \n",
      "3  2292.0         0.177427        7.007601       6.263398      10.370643   \n",
      "4   487.0         0.037699        6.700731       7.409136      10.796018   \n",
      "\n",
      "   members_log  \n",
      "0    13.469880  \n",
      "1    12.102083  \n",
      "2    12.831685  \n",
      "3    11.225483  \n",
      "4    11.577954  \n"
     ]
    }
   ],
   "source": [
    "#数值特征归一化\n",
    "\n",
    "import pandas as pd\n",
    "import numpy as np\n",
    "from sklearn.preprocessing import MinMaxScaler\n",
    "\n",
    "# 加载数据\n",
    "anime_data = pd.read_csv(\"C:/Users/15023/Desktop/IR/Project/user_data/final_anime_list_cleaned_3rd.csv\")\n",
    "\n",
    "# **1. `score` 无需归一化**\n",
    "\n",
    "# **2. `rank` 归一化 (Min-Max Scaling)**\n",
    "scaler = MinMaxScaler()\n",
    "anime_data['rank_normalized'] = scaler.fit_transform(anime_data[['rank']])\n",
    "\n",
    "# **3. 对 `popularity`, `favorites`, `scored_by`, `members` 进行对数变换**\n",
    "anime_data['popularity_log'] = np.log1p(anime_data['popularity'])\n",
    "anime_data['favorites_log'] = np.log1p(anime_data['favorites'])\n",
    "anime_data['scored_by_log'] = np.log1p(anime_data['scored_by'])\n",
    "anime_data['members_log'] = np.log1p(anime_data['members'])\n",
    "\n",
    "# 检查归一化结果\n",
    "print(anime_data[['rank', 'rank_normalized', 'popularity_log', 'favorites_log', 'scored_by_log', 'members_log']].head())\n",
    "\n",
    "# 保存归一化后的数据\n",
    "anime_data.to_csv(\"C:/Users/15023/Desktop/IR/Project/user_data/final_anime_list_cleaned_3rd_normal.csv\", index=False)\n",
    "\n"
   ]
  },
  {
   "cell_type": "code",
   "execution_count": 2,
   "metadata": {},
   "outputs": [
    {
     "name": "stdout",
     "output_type": "stream",
     "text": [
      "LightGBM版本: 4.5.0\n"
     ]
    }
   ],
   "source": [
    "try:\n",
    "    import lightgbm as lgb\n",
    "    print(\"LightGBM版本:\", lgb.__version__)\n",
    "except ModuleNotFoundError:\n",
    "    print(\"LightGBM未安装。\")\n"
   ]
  },
  {
   "cell_type": "code",
   "execution_count": 32,
   "metadata": {},
   "outputs": [
    {
     "name": "stdout",
     "output_type": "stream",
     "text": [
      "Missing values in numeric columns:\n",
      "scored_by_log      0\n",
      "rank_normalized    0\n",
      "popularity_log     0\n",
      "favorites_log      0\n",
      "scored_by          0\n",
      "members_log        0\n",
      "dtype: int64\n",
      "\n",
      "Outliers in numeric columns:\n",
      "{'scored_by_log': 0, 'rank_normalized': 0, 'popularity_log': 657, 'favorites_log': 253, 'scored_by': 2152, 'members_log': 3}\n",
      "\n",
      "Plotting distributions...\n"
     ]
    },
    {
     "data": {
      "image/png": "[encoded data removed]",
      "text/plain": [
       "<Figure size 1500x1000 with 6 Axes>"
      ]
     },
     "metadata": {},
     "output_type": "display_data"
    }
   ],
   "source": [
    "#检查数值特征 是否合适的归一化\n",
    "\n",
    "import pandas as pd\n",
    "import matplotlib.pyplot as plt\n",
    "\n",
    "# 加载数据集\n",
    "file_path = \"C:/Users/15023/Desktop/IR/Project/user_data/final_anime_list_cleaned_3rd_normal.csv\"\n",
    "anime_data = pd.read_csv(file_path)\n",
    "\n",
    "# 数值型列\n",
    "numeric_columns = ['scored_by_log', 'rank_normalized', 'popularity_log', 'favorites_log', 'scored_by', 'members_log']\n",
    "\n",
    "# 检查每列的分布情况\n",
    "def plot_distribution(data, columns):\n",
    "    plt.figure(figsize=(15, 10))\n",
    "    for i, col in enumerate(columns):\n",
    "        plt.subplot(2, 3, i + 1)\n",
    "        plt.hist(data[col].dropna(), bins=50, color='blue', alpha=0.7)\n",
    "        plt.title(f\"Distribution of {col}\")\n",
    "        plt.xlabel(col)\n",
    "        plt.ylabel(\"Frequency\")\n",
    "    plt.tight_layout()\n",
    "    plt.show()\n",
    "\n",
    "# 检查是否有缺失值\n",
    "missing_values = anime_data[numeric_columns].isnull().sum()\n",
    "\n",
    "# 检查是否存在异常值\n",
    "outliers = {}\n",
    "for col in numeric_columns:\n",
    "    Q1 = anime_data[col].quantile(0.25)\n",
    "    Q3 = anime_data[col].quantile(0.75)\n",
    "    IQR = Q3 - Q1\n",
    "    lower_bound = Q1 - 1.5 * IQR\n",
    "    upper_bound = Q3 + 1.5 * IQR\n",
    "    outliers[col] = anime_data[(anime_data[col] < lower_bound) | (anime_data[col] > upper_bound)].shape[0]\n",
    "\n",
    "# 输出检测结果\n",
    "print(\"Missing values in numeric columns:\")\n",
    "print(missing_values)\n",
    "print(\"\\nOutliers in numeric columns:\")\n",
    "print(outliers)\n",
    "\n",
    "# 绘制分布图\n",
    "print(\"\\nPlotting distributions...\")\n",
    "plot_distribution(anime_data, numeric_columns)"
   ]
  },
  {
   "cell_type": "code",
   "execution_count": 36,
   "metadata": {},
   "outputs": [
    {
     "name": "stdout",
     "output_type": "stream",
     "text": [
      "   anime_id  score  rank_normalized  popularity_log  favorites_log  \\\n",
      "0         1   8.81         0.002090        3.663562      10.575054   \n",
      "1         5   8.41         0.012154        6.084499       6.561031   \n",
      "2         6   8.31         0.018114        4.934474       9.189729   \n",
      "3         7   7.34         0.177427        7.007601       6.263398   \n",
      "4        15   8.05         0.037699        6.700731       7.409136   \n",
      "\n",
      "   scored_by_log  members_log  \n",
      "0      12.808929    13.469880  \n",
      "1      11.620389    12.102083  \n",
      "2      12.195234    12.831685  \n",
      "3      10.370643    11.225483  \n",
      "4      10.796018    11.577954  \n"
     ]
    }
   ],
   "source": [
    "import pandas as pd\n",
    "\n",
    "# 读取上传的CSV文件\n",
    "file_path = \"C:/Users/15023/Desktop/IR/Project/user_data/final_anime_list_cleaned_3rd_normal.csv\"\n",
    "anime_data = pd.read_csv(file_path)\n",
    "\n",
    "# 选择合适的列\n",
    "selected_columns = [\n",
    "    \"anime_id\",  # 用于与用户数据匹配\n",
    "    \"score\", \n",
    "    \"rank_normalized\", \n",
    "    \"popularity_log\", \n",
    "    \"favorites_log\", \n",
    "    \"scored_by_log\", \n",
    "    \"members_log\"\n",
    "]\n",
    "\n",
    "# 如果需要包括标签的one-hot编码，也可以加上相应的列名\n",
    "# selected_columns.extend(['Action', 'Comedy', ...])\n",
    "\n",
    "# 提取这些列\n",
    "filtered_data = anime_data[selected_columns]\n",
    "\n",
    "# 检查提取后的数据\n",
    "print(filtered_data.head())\n",
    "\n",
    "# 保存新的数据集\n",
    "filtered_data.to_csv(\"C:/Users/15023/Desktop/IR/Project/user_data/filtered_anime_data_for_merge.csv\", index=False)\n"
   ]
  },
  {
   "cell_type": "code",
   "execution_count": 37,
   "metadata": {},
   "outputs": [
    {
     "name": "stdout",
     "output_type": "stream",
     "text": [
      "   username  anime_id  my_watched_episodes my_start_date my_finish_date  \\\n",
      "0  karthiga        21                  586    0000-00-00     0000-00-00   \n",
      "1  karthiga        59                   26    0000-00-00     0000-00-00   \n",
      "2  karthiga        74                   26    0000-00-00     0000-00-00   \n",
      "3  karthiga       120                   26    0000-00-00     0000-00-00   \n",
      "4  karthiga       178                   26    0000-00-00     0000-00-00   \n",
      "\n",
      "   my_score  my_status  my_rewatching  my_rewatching_ep  my_last_updated  \\\n",
      "0         9          1            NaN                 0       1362307973   \n",
      "1         7          2            NaN                 0       1362923691   \n",
      "2         7          2            NaN                 0       1367081015   \n",
      "3         7          2            NaN                 0       1362308037   \n",
      "4         7          2            0.0                 0       1364399953   \n",
      "\n",
      "  my_tags  score  rank_normalized  popularity_log  favorites_log  \\\n",
      "0     NaN   8.54         0.007044        3.583519      11.152830   \n",
      "1     NaN   7.53         0.119678        5.241747       8.093157   \n",
      "2     NaN   7.77         0.072844        7.163947       7.247081   \n",
      "3     NaN   7.77         0.072689        5.407172       8.933268   \n",
      "4     NaN   7.26         0.200805        7.820440       4.812184   \n",
      "\n",
      "   scored_by_log  members_log  \n",
      "0      12.957180    13.487193  \n",
      "1      12.074762    12.668680  \n",
      "2      10.411660    11.050128  \n",
      "3      12.031535    12.586469  \n",
      "4       9.176163    10.033594  \n"
     ]
    }
   ],
   "source": [
    "#生成用来训练的merged data\n",
    "\n",
    "import pandas as pd\n",
    "\n",
    "# 加载提取的静态特征数据\n",
    "filtered_anime_data = pd.read_csv(\"C:/Users/15023/Desktop/IR/Project/user_data/filtered_anime_data_for_merge.csv\")\n",
    "\n",
    "# 加载用户评分数据\n",
    "user_data_path = \"C:/Users/15023/Desktop/IR/Project/user_data/UserAnimeList.csv\"\n",
    "user_data = pd.read_csv(user_data_path)\n",
    "\n",
    "# 合并数据集\n",
    "merged_data = pd.merge(user_data, filtered_anime_data, how=\"inner\", on=\"anime_id\")\n",
    "\n",
    "# 检查合并后的数据\n",
    "print(merged_data.head())\n",
    "\n",
    "# 保存合并后的数据\n",
    "merged_data.to_csv(\"C:/Users/15023/Desktop/IR/Project/user_data/Merged_User_Anime_Data.csv\", index=False)\n"
   ]
  },
  {
   "cell_type": "code",
   "execution_count": 41,
   "metadata": {},
   "outputs": [
    {
     "name": "stderr",
     "output_type": "stream",
     "text": [
      "C:\\Users\\15023\\AppData\\Local\\Temp\\ipykernel_18544\\267059916.py:15: DtypeWarning: Columns (10) have mixed types. Specify dtype option on import or set low_memory=False.\n",
      "  for i, chunk in enumerate(pd.read_csv(merged_data_path, chunksize=chunksize)):\n",
      "C:\\Users\\15023\\AppData\\Local\\Temp\\ipykernel_18544\\267059916.py:15: DtypeWarning: Columns (10) have mixed types. Specify dtype option on import or set low_memory=False.\n",
      "  for i, chunk in enumerate(pd.read_csv(merged_data_path, chunksize=chunksize)):\n",
      "C:\\Users\\15023\\AppData\\Local\\Temp\\ipykernel_18544\\267059916.py:15: DtypeWarning: Columns (10) have mixed types. Specify dtype option on import or set low_memory=False.\n",
      "  for i, chunk in enumerate(pd.read_csv(merged_data_path, chunksize=chunksize)):\n",
      "C:\\Users\\15023\\AppData\\Local\\Temp\\ipykernel_18544\\267059916.py:15: DtypeWarning: Columns (10) have mixed types. Specify dtype option on import or set low_memory=False.\n",
      "  for i, chunk in enumerate(pd.read_csv(merged_data_path, chunksize=chunksize)):\n",
      "C:\\Users\\15023\\AppData\\Local\\Temp\\ipykernel_18544\\267059916.py:15: DtypeWarning: Columns (10) have mixed types. Specify dtype option on import or set low_memory=False.\n",
      "  for i, chunk in enumerate(pd.read_csv(merged_data_path, chunksize=chunksize)):\n",
      "C:\\Users\\15023\\AppData\\Local\\Temp\\ipykernel_18544\\267059916.py:15: DtypeWarning: Columns (10) have mixed types. Specify dtype option on import or set low_memory=False.\n",
      "  for i, chunk in enumerate(pd.read_csv(merged_data_path, chunksize=chunksize)):\n",
      "C:\\Users\\15023\\AppData\\Local\\Temp\\ipykernel_18544\\267059916.py:15: DtypeWarning: Columns (10) have mixed types. Specify dtype option on import or set low_memory=False.\n",
      "  for i, chunk in enumerate(pd.read_csv(merged_data_path, chunksize=chunksize)):\n",
      "C:\\Users\\15023\\AppData\\Local\\Temp\\ipykernel_18544\\267059916.py:15: DtypeWarning: Columns (10) have mixed types. Specify dtype option on import or set low_memory=False.\n",
      "  for i, chunk in enumerate(pd.read_csv(merged_data_path, chunksize=chunksize)):\n",
      "C:\\Users\\15023\\AppData\\Local\\Temp\\ipykernel_18544\\267059916.py:15: DtypeWarning: Columns (10) have mixed types. Specify dtype option on import or set low_memory=False.\n",
      "  for i, chunk in enumerate(pd.read_csv(merged_data_path, chunksize=chunksize)):\n",
      "C:\\Users\\15023\\AppData\\Local\\Temp\\ipykernel_18544\\267059916.py:15: DtypeWarning: Columns (10) have mixed types. Specify dtype option on import or set low_memory=False.\n",
      "  for i, chunk in enumerate(pd.read_csv(merged_data_path, chunksize=chunksize)):\n",
      "C:\\Users\\15023\\AppData\\Local\\Temp\\ipykernel_18544\\267059916.py:15: DtypeWarning: Columns (10) have mixed types. Specify dtype option on import or set low_memory=False.\n",
      "  for i, chunk in enumerate(pd.read_csv(merged_data_path, chunksize=chunksize)):\n",
      "C:\\Users\\15023\\AppData\\Local\\Temp\\ipykernel_18544\\267059916.py:15: DtypeWarning: Columns (10) have mixed types. Specify dtype option on import or set low_memory=False.\n",
      "  for i, chunk in enumerate(pd.read_csv(merged_data_path, chunksize=chunksize)):\n",
      "C:\\Users\\15023\\AppData\\Local\\Temp\\ipykernel_18544\\267059916.py:15: DtypeWarning: Columns (10) have mixed types. Specify dtype option on import or set low_memory=False.\n",
      "  for i, chunk in enumerate(pd.read_csv(merged_data_path, chunksize=chunksize)):\n",
      "C:\\Users\\15023\\AppData\\Local\\Temp\\ipykernel_18544\\267059916.py:15: DtypeWarning: Columns (10) have mixed types. Specify dtype option on import or set low_memory=False.\n",
      "  for i, chunk in enumerate(pd.read_csv(merged_data_path, chunksize=chunksize)):\n",
      "C:\\Users\\15023\\AppData\\Local\\Temp\\ipykernel_18544\\267059916.py:15: DtypeWarning: Columns (10) have mixed types. Specify dtype option on import or set low_memory=False.\n",
      "  for i, chunk in enumerate(pd.read_csv(merged_data_path, chunksize=chunksize)):\n",
      "C:\\Users\\15023\\AppData\\Local\\Temp\\ipykernel_18544\\267059916.py:15: DtypeWarning: Columns (10) have mixed types. Specify dtype option on import or set low_memory=False.\n",
      "  for i, chunk in enumerate(pd.read_csv(merged_data_path, chunksize=chunksize)):\n",
      "C:\\Users\\15023\\AppData\\Local\\Temp\\ipykernel_18544\\267059916.py:15: DtypeWarning: Columns (10) have mixed types. Specify dtype option on import or set low_memory=False.\n",
      "  for i, chunk in enumerate(pd.read_csv(merged_data_path, chunksize=chunksize)):\n",
      "C:\\Users\\15023\\AppData\\Local\\Temp\\ipykernel_18544\\267059916.py:15: DtypeWarning: Columns (10) have mixed types. Specify dtype option on import or set low_memory=False.\n",
      "  for i, chunk in enumerate(pd.read_csv(merged_data_path, chunksize=chunksize)):\n",
      "C:\\Users\\15023\\AppData\\Local\\Temp\\ipykernel_18544\\267059916.py:15: DtypeWarning: Columns (10) have mixed types. Specify dtype option on import or set low_memory=False.\n",
      "  for i, chunk in enumerate(pd.read_csv(merged_data_path, chunksize=chunksize)):\n",
      "C:\\Users\\15023\\AppData\\Local\\Temp\\ipykernel_18544\\267059916.py:15: DtypeWarning: Columns (10) have mixed types. Specify dtype option on import or set low_memory=False.\n",
      "  for i, chunk in enumerate(pd.read_csv(merged_data_path, chunksize=chunksize)):\n",
      "C:\\Users\\15023\\AppData\\Local\\Temp\\ipykernel_18544\\267059916.py:15: DtypeWarning: Columns (10) have mixed types. Specify dtype option on import or set low_memory=False.\n",
      "  for i, chunk in enumerate(pd.read_csv(merged_data_path, chunksize=chunksize)):\n",
      "C:\\Users\\15023\\AppData\\Local\\Temp\\ipykernel_18544\\267059916.py:15: DtypeWarning: Columns (10) have mixed types. Specify dtype option on import or set low_memory=False.\n",
      "  for i, chunk in enumerate(pd.read_csv(merged_data_path, chunksize=chunksize)):\n",
      "C:\\Users\\15023\\AppData\\Local\\Temp\\ipykernel_18544\\267059916.py:15: DtypeWarning: Columns (10) have mixed types. Specify dtype option on import or set low_memory=False.\n",
      "  for i, chunk in enumerate(pd.read_csv(merged_data_path, chunksize=chunksize)):\n",
      "C:\\Users\\15023\\AppData\\Local\\Temp\\ipykernel_18544\\267059916.py:15: DtypeWarning: Columns (10) have mixed types. Specify dtype option on import or set low_memory=False.\n",
      "  for i, chunk in enumerate(pd.read_csv(merged_data_path, chunksize=chunksize)):\n",
      "C:\\Users\\15023\\AppData\\Local\\Temp\\ipykernel_18544\\267059916.py:15: DtypeWarning: Columns (10) have mixed types. Specify dtype option on import or set low_memory=False.\n",
      "  for i, chunk in enumerate(pd.read_csv(merged_data_path, chunksize=chunksize)):\n",
      "C:\\Users\\15023\\AppData\\Local\\Temp\\ipykernel_18544\\267059916.py:15: DtypeWarning: Columns (10) have mixed types. Specify dtype option on import or set low_memory=False.\n",
      "  for i, chunk in enumerate(pd.read_csv(merged_data_path, chunksize=chunksize)):\n",
      "C:\\Users\\15023\\AppData\\Local\\Temp\\ipykernel_18544\\267059916.py:15: DtypeWarning: Columns (10) have mixed types. Specify dtype option on import or set low_memory=False.\n",
      "  for i, chunk in enumerate(pd.read_csv(merged_data_path, chunksize=chunksize)):\n",
      "C:\\Users\\15023\\AppData\\Local\\Temp\\ipykernel_18544\\267059916.py:15: DtypeWarning: Columns (10) have mixed types. Specify dtype option on import or set low_memory=False.\n",
      "  for i, chunk in enumerate(pd.read_csv(merged_data_path, chunksize=chunksize)):\n",
      "C:\\Users\\15023\\AppData\\Local\\Temp\\ipykernel_18544\\267059916.py:15: DtypeWarning: Columns (10) have mixed types. Specify dtype option on import or set low_memory=False.\n",
      "  for i, chunk in enumerate(pd.read_csv(merged_data_path, chunksize=chunksize)):\n",
      "C:\\Users\\15023\\AppData\\Local\\Temp\\ipykernel_18544\\267059916.py:15: DtypeWarning: Columns (10) have mixed types. Specify dtype option on import or set low_memory=False.\n",
      "  for i, chunk in enumerate(pd.read_csv(merged_data_path, chunksize=chunksize)):\n",
      "C:\\Users\\15023\\AppData\\Local\\Temp\\ipykernel_18544\\267059916.py:15: DtypeWarning: Columns (10) have mixed types. Specify dtype option on import or set low_memory=False.\n",
      "  for i, chunk in enumerate(pd.read_csv(merged_data_path, chunksize=chunksize)):\n",
      "C:\\Users\\15023\\AppData\\Local\\Temp\\ipykernel_18544\\267059916.py:15: DtypeWarning: Columns (10) have mixed types. Specify dtype option on import or set low_memory=False.\n",
      "  for i, chunk in enumerate(pd.read_csv(merged_data_path, chunksize=chunksize)):\n",
      "C:\\Users\\15023\\AppData\\Local\\Temp\\ipykernel_18544\\267059916.py:15: DtypeWarning: Columns (10) have mixed types. Specify dtype option on import or set low_memory=False.\n",
      "  for i, chunk in enumerate(pd.read_csv(merged_data_path, chunksize=chunksize)):\n",
      "C:\\Users\\15023\\AppData\\Local\\Temp\\ipykernel_18544\\267059916.py:15: DtypeWarning: Columns (10) have mixed types. Specify dtype option on import or set low_memory=False.\n",
      "  for i, chunk in enumerate(pd.read_csv(merged_data_path, chunksize=chunksize)):\n",
      "C:\\Users\\15023\\AppData\\Local\\Temp\\ipykernel_18544\\267059916.py:15: DtypeWarning: Columns (10) have mixed types. Specify dtype option on import or set low_memory=False.\n",
      "  for i, chunk in enumerate(pd.read_csv(merged_data_path, chunksize=chunksize)):\n",
      "C:\\Users\\15023\\AppData\\Local\\Temp\\ipykernel_18544\\267059916.py:15: DtypeWarning: Columns (10) have mixed types. Specify dtype option on import or set low_memory=False.\n",
      "  for i, chunk in enumerate(pd.read_csv(merged_data_path, chunksize=chunksize)):\n",
      "C:\\Users\\15023\\AppData\\Local\\Temp\\ipykernel_18544\\267059916.py:15: DtypeWarning: Columns (10) have mixed types. Specify dtype option on import or set low_memory=False.\n",
      "  for i, chunk in enumerate(pd.read_csv(merged_data_path, chunksize=chunksize)):\n",
      "C:\\Users\\15023\\AppData\\Local\\Temp\\ipykernel_18544\\267059916.py:15: DtypeWarning: Columns (10) have mixed types. Specify dtype option on import or set low_memory=False.\n",
      "  for i, chunk in enumerate(pd.read_csv(merged_data_path, chunksize=chunksize)):\n",
      "C:\\Users\\15023\\AppData\\Local\\Temp\\ipykernel_18544\\267059916.py:15: DtypeWarning: Columns (10) have mixed types. Specify dtype option on import or set low_memory=False.\n",
      "  for i, chunk in enumerate(pd.read_csv(merged_data_path, chunksize=chunksize)):\n",
      "C:\\Users\\15023\\AppData\\Local\\Temp\\ipykernel_18544\\267059916.py:15: DtypeWarning: Columns (10) have mixed types. Specify dtype option on import or set low_memory=False.\n",
      "  for i, chunk in enumerate(pd.read_csv(merged_data_path, chunksize=chunksize)):\n",
      "C:\\Users\\15023\\AppData\\Local\\Temp\\ipykernel_18544\\267059916.py:15: DtypeWarning: Columns (10) have mixed types. Specify dtype option on import or set low_memory=False.\n",
      "  for i, chunk in enumerate(pd.read_csv(merged_data_path, chunksize=chunksize)):\n",
      "C:\\Users\\15023\\AppData\\Local\\Temp\\ipykernel_18544\\267059916.py:15: DtypeWarning: Columns (10) have mixed types. Specify dtype option on import or set low_memory=False.\n",
      "  for i, chunk in enumerate(pd.read_csv(merged_data_path, chunksize=chunksize)):\n",
      "C:\\Users\\15023\\AppData\\Local\\Temp\\ipykernel_18544\\267059916.py:15: DtypeWarning: Columns (10) have mixed types. Specify dtype option on import or set low_memory=False.\n",
      "  for i, chunk in enumerate(pd.read_csv(merged_data_path, chunksize=chunksize)):\n",
      "C:\\Users\\15023\\AppData\\Local\\Temp\\ipykernel_18544\\267059916.py:15: DtypeWarning: Columns (10) have mixed types. Specify dtype option on import or set low_memory=False.\n",
      "  for i, chunk in enumerate(pd.read_csv(merged_data_path, chunksize=chunksize)):\n",
      "C:\\Users\\15023\\AppData\\Local\\Temp\\ipykernel_18544\\267059916.py:15: DtypeWarning: Columns (10) have mixed types. Specify dtype option on import or set low_memory=False.\n",
      "  for i, chunk in enumerate(pd.read_csv(merged_data_path, chunksize=chunksize)):\n",
      "C:\\Users\\15023\\AppData\\Local\\Temp\\ipykernel_18544\\267059916.py:15: DtypeWarning: Columns (10) have mixed types. Specify dtype option on import or set low_memory=False.\n",
      "  for i, chunk in enumerate(pd.read_csv(merged_data_path, chunksize=chunksize)):\n",
      "C:\\Users\\15023\\AppData\\Local\\Temp\\ipykernel_18544\\267059916.py:15: DtypeWarning: Columns (10) have mixed types. Specify dtype option on import or set low_memory=False.\n",
      "  for i, chunk in enumerate(pd.read_csv(merged_data_path, chunksize=chunksize)):\n",
      "C:\\Users\\15023\\AppData\\Local\\Temp\\ipykernel_18544\\267059916.py:15: DtypeWarning: Columns (10) have mixed types. Specify dtype option on import or set low_memory=False.\n",
      "  for i, chunk in enumerate(pd.read_csv(merged_data_path, chunksize=chunksize)):\n",
      "C:\\Users\\15023\\AppData\\Local\\Temp\\ipykernel_18544\\267059916.py:15: DtypeWarning: Columns (10) have mixed types. Specify dtype option on import or set low_memory=False.\n",
      "  for i, chunk in enumerate(pd.read_csv(merged_data_path, chunksize=chunksize)):\n",
      "C:\\Users\\15023\\AppData\\Local\\Temp\\ipykernel_18544\\267059916.py:15: DtypeWarning: Columns (10) have mixed types. Specify dtype option on import or set low_memory=False.\n",
      "  for i, chunk in enumerate(pd.read_csv(merged_data_path, chunksize=chunksize)):\n",
      "C:\\Users\\15023\\AppData\\Local\\Temp\\ipykernel_18544\\267059916.py:15: DtypeWarning: Columns (10) have mixed types. Specify dtype option on import or set low_memory=False.\n",
      "  for i, chunk in enumerate(pd.read_csv(merged_data_path, chunksize=chunksize)):\n",
      "C:\\Users\\15023\\AppData\\Local\\Temp\\ipykernel_18544\\267059916.py:15: DtypeWarning: Columns (10) have mixed types. Specify dtype option on import or set low_memory=False.\n",
      "  for i, chunk in enumerate(pd.read_csv(merged_data_path, chunksize=chunksize)):\n",
      "C:\\Users\\15023\\AppData\\Local\\Temp\\ipykernel_18544\\267059916.py:15: DtypeWarning: Columns (10) have mixed types. Specify dtype option on import or set low_memory=False.\n",
      "  for i, chunk in enumerate(pd.read_csv(merged_data_path, chunksize=chunksize)):\n",
      "C:\\Users\\15023\\AppData\\Local\\Temp\\ipykernel_18544\\267059916.py:15: DtypeWarning: Columns (10) have mixed types. Specify dtype option on import or set low_memory=False.\n",
      "  for i, chunk in enumerate(pd.read_csv(merged_data_path, chunksize=chunksize)):\n",
      "C:\\Users\\15023\\AppData\\Local\\Temp\\ipykernel_18544\\267059916.py:15: DtypeWarning: Columns (10) have mixed types. Specify dtype option on import or set low_memory=False.\n",
      "  for i, chunk in enumerate(pd.read_csv(merged_data_path, chunksize=chunksize)):\n",
      "C:\\Users\\15023\\AppData\\Local\\Temp\\ipykernel_18544\\267059916.py:15: DtypeWarning: Columns (10) have mixed types. Specify dtype option on import or set low_memory=False.\n",
      "  for i, chunk in enumerate(pd.read_csv(merged_data_path, chunksize=chunksize)):\n",
      "C:\\Users\\15023\\AppData\\Local\\Temp\\ipykernel_18544\\267059916.py:15: DtypeWarning: Columns (10) have mixed types. Specify dtype option on import or set low_memory=False.\n",
      "  for i, chunk in enumerate(pd.read_csv(merged_data_path, chunksize=chunksize)):\n",
      "C:\\Users\\15023\\AppData\\Local\\Temp\\ipykernel_18544\\267059916.py:15: DtypeWarning: Columns (10) have mixed types. Specify dtype option on import or set low_memory=False.\n",
      "  for i, chunk in enumerate(pd.read_csv(merged_data_path, chunksize=chunksize)):\n",
      "C:\\Users\\15023\\AppData\\Local\\Temp\\ipykernel_18544\\267059916.py:15: DtypeWarning: Columns (10) have mixed types. Specify dtype option on import or set low_memory=False.\n",
      "  for i, chunk in enumerate(pd.read_csv(merged_data_path, chunksize=chunksize)):\n",
      "C:\\Users\\15023\\AppData\\Local\\Temp\\ipykernel_18544\\267059916.py:15: DtypeWarning: Columns (10) have mixed types. Specify dtype option on import or set low_memory=False.\n",
      "  for i, chunk in enumerate(pd.read_csv(merged_data_path, chunksize=chunksize)):\n",
      "C:\\Users\\15023\\AppData\\Local\\Temp\\ipykernel_18544\\267059916.py:15: DtypeWarning: Columns (10) have mixed types. Specify dtype option on import or set low_memory=False.\n",
      "  for i, chunk in enumerate(pd.read_csv(merged_data_path, chunksize=chunksize)):\n",
      "C:\\Users\\15023\\AppData\\Local\\Temp\\ipykernel_18544\\267059916.py:15: DtypeWarning: Columns (10) have mixed types. Specify dtype option on import or set low_memory=False.\n",
      "  for i, chunk in enumerate(pd.read_csv(merged_data_path, chunksize=chunksize)):\n",
      "C:\\Users\\15023\\AppData\\Local\\Temp\\ipykernel_18544\\267059916.py:15: DtypeWarning: Columns (10) have mixed types. Specify dtype option on import or set low_memory=False.\n",
      "  for i, chunk in enumerate(pd.read_csv(merged_data_path, chunksize=chunksize)):\n",
      "C:\\Users\\15023\\AppData\\Local\\Temp\\ipykernel_18544\\267059916.py:15: DtypeWarning: Columns (10) have mixed types. Specify dtype option on import or set low_memory=False.\n",
      "  for i, chunk in enumerate(pd.read_csv(merged_data_path, chunksize=chunksize)):\n",
      "C:\\Users\\15023\\AppData\\Local\\Temp\\ipykernel_18544\\267059916.py:15: DtypeWarning: Columns (10) have mixed types. Specify dtype option on import or set low_memory=False.\n",
      "  for i, chunk in enumerate(pd.read_csv(merged_data_path, chunksize=chunksize)):\n",
      "C:\\Users\\15023\\AppData\\Local\\Temp\\ipykernel_18544\\267059916.py:15: DtypeWarning: Columns (10) have mixed types. Specify dtype option on import or set low_memory=False.\n",
      "  for i, chunk in enumerate(pd.read_csv(merged_data_path, chunksize=chunksize)):\n",
      "C:\\Users\\15023\\AppData\\Local\\Temp\\ipykernel_18544\\267059916.py:15: DtypeWarning: Columns (10) have mixed types. Specify dtype option on import or set low_memory=False.\n",
      "  for i, chunk in enumerate(pd.read_csv(merged_data_path, chunksize=chunksize)):\n",
      "C:\\Users\\15023\\AppData\\Local\\Temp\\ipykernel_18544\\267059916.py:15: DtypeWarning: Columns (10) have mixed types. Specify dtype option on import or set low_memory=False.\n",
      "  for i, chunk in enumerate(pd.read_csv(merged_data_path, chunksize=chunksize)):\n",
      "C:\\Users\\15023\\AppData\\Local\\Temp\\ipykernel_18544\\267059916.py:15: DtypeWarning: Columns (10) have mixed types. Specify dtype option on import or set low_memory=False.\n",
      "  for i, chunk in enumerate(pd.read_csv(merged_data_path, chunksize=chunksize)):\n",
      "C:\\Users\\15023\\AppData\\Local\\Temp\\ipykernel_18544\\267059916.py:15: DtypeWarning: Columns (10) have mixed types. Specify dtype option on import or set low_memory=False.\n",
      "  for i, chunk in enumerate(pd.read_csv(merged_data_path, chunksize=chunksize)):\n",
      "C:\\Users\\15023\\AppData\\Local\\Temp\\ipykernel_18544\\267059916.py:15: DtypeWarning: Columns (10) have mixed types. Specify dtype option on import or set low_memory=False.\n",
      "  for i, chunk in enumerate(pd.read_csv(merged_data_path, chunksize=chunksize)):\n",
      "C:\\Users\\15023\\AppData\\Local\\Temp\\ipykernel_18544\\267059916.py:15: DtypeWarning: Columns (10) have mixed types. Specify dtype option on import or set low_memory=False.\n",
      "  for i, chunk in enumerate(pd.read_csv(merged_data_path, chunksize=chunksize)):\n",
      "C:\\Users\\15023\\AppData\\Local\\Temp\\ipykernel_18544\\267059916.py:15: DtypeWarning: Columns (10) have mixed types. Specify dtype option on import or set low_memory=False.\n",
      "  for i, chunk in enumerate(pd.read_csv(merged_data_path, chunksize=chunksize)):\n",
      "C:\\Users\\15023\\AppData\\Local\\Temp\\ipykernel_18544\\267059916.py:15: DtypeWarning: Columns (10) have mixed types. Specify dtype option on import or set low_memory=False.\n",
      "  for i, chunk in enumerate(pd.read_csv(merged_data_path, chunksize=chunksize)):\n",
      "C:\\Users\\15023\\AppData\\Local\\Temp\\ipykernel_18544\\267059916.py:15: DtypeWarning: Columns (10) have mixed types. Specify dtype option on import or set low_memory=False.\n",
      "  for i, chunk in enumerate(pd.read_csv(merged_data_path, chunksize=chunksize)):\n",
      "C:\\Users\\15023\\AppData\\Local\\Temp\\ipykernel_18544\\267059916.py:15: DtypeWarning: Columns (10) have mixed types. Specify dtype option on import or set low_memory=False.\n",
      "  for i, chunk in enumerate(pd.read_csv(merged_data_path, chunksize=chunksize)):\n",
      "C:\\Users\\15023\\AppData\\Local\\Temp\\ipykernel_18544\\267059916.py:15: DtypeWarning: Columns (10) have mixed types. Specify dtype option on import or set low_memory=False.\n",
      "  for i, chunk in enumerate(pd.read_csv(merged_data_path, chunksize=chunksize)):\n",
      "C:\\Users\\15023\\AppData\\Local\\Temp\\ipykernel_18544\\267059916.py:15: DtypeWarning: Columns (10) have mixed types. Specify dtype option on import or set low_memory=False.\n",
      "  for i, chunk in enumerate(pd.read_csv(merged_data_path, chunksize=chunksize)):\n",
      "C:\\Users\\15023\\AppData\\Local\\Temp\\ipykernel_18544\\267059916.py:15: DtypeWarning: Columns (10) have mixed types. Specify dtype option on import or set low_memory=False.\n",
      "  for i, chunk in enumerate(pd.read_csv(merged_data_path, chunksize=chunksize)):\n",
      "C:\\Users\\15023\\AppData\\Local\\Temp\\ipykernel_18544\\267059916.py:15: DtypeWarning: Columns (10) have mixed types. Specify dtype option on import or set low_memory=False.\n",
      "  for i, chunk in enumerate(pd.read_csv(merged_data_path, chunksize=chunksize)):\n",
      "C:\\Users\\15023\\AppData\\Local\\Temp\\ipykernel_18544\\267059916.py:15: DtypeWarning: Columns (10) have mixed types. Specify dtype option on import or set low_memory=False.\n",
      "  for i, chunk in enumerate(pd.read_csv(merged_data_path, chunksize=chunksize)):\n",
      "C:\\Users\\15023\\AppData\\Local\\Temp\\ipykernel_18544\\267059916.py:15: DtypeWarning: Columns (10) have mixed types. Specify dtype option on import or set low_memory=False.\n",
      "  for i, chunk in enumerate(pd.read_csv(merged_data_path, chunksize=chunksize)):\n",
      "C:\\Users\\15023\\AppData\\Local\\Temp\\ipykernel_18544\\267059916.py:15: DtypeWarning: Columns (10) have mixed types. Specify dtype option on import or set low_memory=False.\n",
      "  for i, chunk in enumerate(pd.read_csv(merged_data_path, chunksize=chunksize)):\n",
      "C:\\Users\\15023\\AppData\\Local\\Temp\\ipykernel_18544\\267059916.py:15: DtypeWarning: Columns (10) have mixed types. Specify dtype option on import or set low_memory=False.\n",
      "  for i, chunk in enumerate(pd.read_csv(merged_data_path, chunksize=chunksize)):\n",
      "C:\\Users\\15023\\AppData\\Local\\Temp\\ipykernel_18544\\267059916.py:15: DtypeWarning: Columns (10) have mixed types. Specify dtype option on import or set low_memory=False.\n",
      "  for i, chunk in enumerate(pd.read_csv(merged_data_path, chunksize=chunksize)):\n",
      "C:\\Users\\15023\\AppData\\Local\\Temp\\ipykernel_18544\\267059916.py:15: DtypeWarning: Columns (10) have mixed types. Specify dtype option on import or set low_memory=False.\n",
      "  for i, chunk in enumerate(pd.read_csv(merged_data_path, chunksize=chunksize)):\n",
      "C:\\Users\\15023\\AppData\\Local\\Temp\\ipykernel_18544\\267059916.py:15: DtypeWarning: Columns (10) have mixed types. Specify dtype option on import or set low_memory=False.\n",
      "  for i, chunk in enumerate(pd.read_csv(merged_data_path, chunksize=chunksize)):\n",
      "C:\\Users\\15023\\AppData\\Local\\Temp\\ipykernel_18544\\267059916.py:15: DtypeWarning: Columns (10) have mixed types. Specify dtype option on import or set low_memory=False.\n",
      "  for i, chunk in enumerate(pd.read_csv(merged_data_path, chunksize=chunksize)):\n",
      "C:\\Users\\15023\\AppData\\Local\\Temp\\ipykernel_18544\\267059916.py:15: DtypeWarning: Columns (10) have mixed types. Specify dtype option on import or set low_memory=False.\n",
      "  for i, chunk in enumerate(pd.read_csv(merged_data_path, chunksize=chunksize)):\n",
      "C:\\Users\\15023\\AppData\\Local\\Temp\\ipykernel_18544\\267059916.py:15: DtypeWarning: Columns (10) have mixed types. Specify dtype option on import or set low_memory=False.\n",
      "  for i, chunk in enumerate(pd.read_csv(merged_data_path, chunksize=chunksize)):\n",
      "C:\\Users\\15023\\AppData\\Local\\Temp\\ipykernel_18544\\267059916.py:15: DtypeWarning: Columns (10) have mixed types. Specify dtype option on import or set low_memory=False.\n",
      "  for i, chunk in enumerate(pd.read_csv(merged_data_path, chunksize=chunksize)):\n",
      "C:\\Users\\15023\\AppData\\Local\\Temp\\ipykernel_18544\\267059916.py:15: DtypeWarning: Columns (10) have mixed types. Specify dtype option on import or set low_memory=False.\n",
      "  for i, chunk in enumerate(pd.read_csv(merged_data_path, chunksize=chunksize)):\n",
      "C:\\Users\\15023\\AppData\\Local\\Temp\\ipykernel_18544\\267059916.py:15: DtypeWarning: Columns (10) have mixed types. Specify dtype option on import or set low_memory=False.\n",
      "  for i, chunk in enumerate(pd.read_csv(merged_data_path, chunksize=chunksize)):\n",
      "C:\\Users\\15023\\AppData\\Local\\Temp\\ipykernel_18544\\267059916.py:15: DtypeWarning: Columns (10) have mixed types. Specify dtype option on import or set low_memory=False.\n",
      "  for i, chunk in enumerate(pd.read_csv(merged_data_path, chunksize=chunksize)):\n",
      "C:\\Users\\15023\\AppData\\Local\\Temp\\ipykernel_18544\\267059916.py:15: DtypeWarning: Columns (10) have mixed types. Specify dtype option on import or set low_memory=False.\n",
      "  for i, chunk in enumerate(pd.read_csv(merged_data_path, chunksize=chunksize)):\n",
      "C:\\Users\\15023\\AppData\\Local\\Temp\\ipykernel_18544\\267059916.py:15: DtypeWarning: Columns (10) have mixed types. Specify dtype option on import or set low_memory=False.\n",
      "  for i, chunk in enumerate(pd.read_csv(merged_data_path, chunksize=chunksize)):\n",
      "C:\\Users\\15023\\AppData\\Local\\Temp\\ipykernel_18544\\267059916.py:15: DtypeWarning: Columns (10) have mixed types. Specify dtype option on import or set low_memory=False.\n",
      "  for i, chunk in enumerate(pd.read_csv(merged_data_path, chunksize=chunksize)):\n",
      "C:\\Users\\15023\\AppData\\Local\\Temp\\ipykernel_18544\\267059916.py:15: DtypeWarning: Columns (10) have mixed types. Specify dtype option on import or set low_memory=False.\n",
      "  for i, chunk in enumerate(pd.read_csv(merged_data_path, chunksize=chunksize)):\n",
      "C:\\Users\\15023\\AppData\\Local\\Temp\\ipykernel_18544\\267059916.py:15: DtypeWarning: Columns (10) have mixed types. Specify dtype option on import or set low_memory=False.\n",
      "  for i, chunk in enumerate(pd.read_csv(merged_data_path, chunksize=chunksize)):\n",
      "C:\\Users\\15023\\AppData\\Local\\Temp\\ipykernel_18544\\267059916.py:15: DtypeWarning: Columns (10) have mixed types. Specify dtype option on import or set low_memory=False.\n",
      "  for i, chunk in enumerate(pd.read_csv(merged_data_path, chunksize=chunksize)):\n",
      "C:\\Users\\15023\\AppData\\Local\\Temp\\ipykernel_18544\\267059916.py:15: DtypeWarning: Columns (10) have mixed types. Specify dtype option on import or set low_memory=False.\n",
      "  for i, chunk in enumerate(pd.read_csv(merged_data_path, chunksize=chunksize)):\n",
      "C:\\Users\\15023\\AppData\\Local\\Temp\\ipykernel_18544\\267059916.py:15: DtypeWarning: Columns (10) have mixed types. Specify dtype option on import or set low_memory=False.\n",
      "  for i, chunk in enumerate(pd.read_csv(merged_data_path, chunksize=chunksize)):\n",
      "C:\\Users\\15023\\AppData\\Local\\Temp\\ipykernel_18544\\267059916.py:15: DtypeWarning: Columns (10) have mixed types. Specify dtype option on import or set low_memory=False.\n",
      "  for i, chunk in enumerate(pd.read_csv(merged_data_path, chunksize=chunksize)):\n",
      "C:\\Users\\15023\\AppData\\Local\\Temp\\ipykernel_18544\\267059916.py:15: DtypeWarning: Columns (10) have mixed types. Specify dtype option on import or set low_memory=False.\n",
      "  for i, chunk in enumerate(pd.read_csv(merged_data_path, chunksize=chunksize)):\n",
      "C:\\Users\\15023\\AppData\\Local\\Temp\\ipykernel_18544\\267059916.py:15: DtypeWarning: Columns (10) have mixed types. Specify dtype option on import or set low_memory=False.\n",
      "  for i, chunk in enumerate(pd.read_csv(merged_data_path, chunksize=chunksize)):\n"
     ]
    },
    {
     "name": "stdout",
     "output_type": "stream",
     "text": [
      "Merged data has been successfully saved to C:/Users/15023/Desktop/IR/Project/user_data/Merged_User_Anime_Data.pkl\n"
     ]
    }
   ],
   "source": [
    "import pandas as pd\n",
    "#to pkl file\n",
    "\n",
    "\n",
    "import pandas as pd\n",
    "\n",
    "# 定义分块大小\n",
    "chunksize = 100000  # 每次处理 100,000 行\n",
    "\n",
    "# 定义输入和输出文件路径\n",
    "merged_data_path = \"C:/Users/15023/Desktop/IR/Project/user_data/Merged_User_Anime_Data.csv\"\n",
    "pkl_path = \"C:/Users/15023/Desktop/IR/Project/user_data/Merged_User_Anime_Data.pkl\"\n",
    "\n",
    "# 分块读取并逐块保存到 .pkl 文件\n",
    "for i, chunk in enumerate(pd.read_csv(merged_data_path, chunksize=chunksize)):\n",
    "    if i == 0:\n",
    "        # 第一次创建文件\n",
    "        chunk.to_pickle(pkl_path)\n",
    "    else:\n",
    "        # 后续分块追加到已有的 .pkl 文件\n",
    "        with open(pkl_path, \"ab\") as f:\n",
    "            chunk.to_pickle(f)\n",
    "\n",
    "print(f\"Merged data has been successfully saved to {pkl_path}\")\n",
    "\n",
    "\n"
   ]
  },
  {
   "cell_type": "code",
   "execution_count": 42,
   "metadata": {},
   "outputs": [
    {
     "name": "stdout",
     "output_type": "stream",
     "text": [
      "   username  anime_id  my_watched_episodes my_start_date my_finish_date  \\\n",
      "0  karthiga        21                  586    0000-00-00     0000-00-00   \n",
      "1  karthiga        59                   26    0000-00-00     0000-00-00   \n",
      "2  karthiga        74                   26    0000-00-00     0000-00-00   \n",
      "3  karthiga       120                   26    0000-00-00     0000-00-00   \n",
      "4  karthiga       178                   26    0000-00-00     0000-00-00   \n",
      "\n",
      "   my_score  my_status  my_rewatching  my_rewatching_ep  my_last_updated  \\\n",
      "0         9          1            NaN                 0       1362307973   \n",
      "1         7          2            NaN                 0       1362923691   \n",
      "2         7          2            NaN                 0       1367081015   \n",
      "3         7          2            NaN                 0       1362308037   \n",
      "4         7          2            0.0                 0       1364399953   \n",
      "\n",
      "  my_tags  score  rank_normalized  popularity_log  favorites_log  \\\n",
      "0     NaN   8.54         0.007044        3.583519      11.152830   \n",
      "1     NaN   7.53         0.119678        5.241747       8.093157   \n",
      "2     NaN   7.77         0.072844        7.163947       7.247081   \n",
      "3     NaN   7.77         0.072689        5.407172       8.933268   \n",
      "4     NaN   7.26         0.200805        7.820440       4.812184   \n",
      "\n",
      "   scored_by_log  members_log  \n",
      "0      12.957180    13.487193  \n",
      "1      12.074762    12.668680  \n",
      "2      10.411660    11.050128  \n",
      "3      12.031535    12.586469  \n",
      "4       9.176163    10.033594  \n"
     ]
    }
   ],
   "source": [
    "#开始训练，检查pkl文件\n",
    "\n",
    "# 读取保存的 pkl 文件\n",
    "data_path = \"C:/Users/15023/Desktop/IR/Project/user_data/Merged_User_Anime_Data.pkl\"\n",
    "data = pd.read_pickle(data_path)\n",
    "\n",
    "# 检查数据格式\n",
    "print(data.head())\n"
   ]
  },
  {
   "cell_type": "code",
   "execution_count": 21,
   "metadata": {},
   "outputs": [
    {
     "name": "stdout",
     "output_type": "stream",
     "text": [
      "Features shape: (97334, 6)\n",
      "Labels shape: (97334,)\n",
      "Unique groups (after trimming): 310\n",
      "Groups sum (total rows): 97334, Data rows: 97334\n",
      "Training set size: (79229, 6), Test set size: (18105, 6)\n",
      "Training groups size: 248, Test groups size: 62\n",
      "Training groups sum: 79229, Test groups sum: 18105\n"
     ]
    },
    {
     "name": "stderr",
     "output_type": "stream",
     "text": [
      "C:\\Users\\15023\\AppData\\Local\\Temp\\ipykernel_359176\\1301847229.py:20: DeprecationWarning: DataFrameGroupBy.apply operated on the grouping columns. This behavior is deprecated, and in a future version of pandas the grouping columns will be excluded from the operation. Either pass `include_groups=False` to exclude the groupings or explicitly select the grouping columns after groupby to silence this warning.\n",
      "  data_grouped = data.groupby(\"username\").apply(\n"
     ]
    }
   ],
   "source": [
    "\n",
    "\n",
    "#训练数据 划分以及检查 format\n",
    "\n",
    "import pandas as pd\n",
    "from sklearn.model_selection import GroupShuffleSplit\n",
    "\n",
    "# 读取保存的 pkl 文件\n",
    "data_path = \"C:/Users/15023/Desktop/IR/Project/user_data/Merged_User_Anime_Data.pkl\"\n",
    "data = pd.read_pickle(data_path)\n",
    "\n",
    "# 定义特征列和目标列\n",
    "features = [\"score\", \"rank_normalized\", \"popularity_log\", \"favorites_log\", \"scored_by_log\", \"members_log\"]\n",
    "\n",
    "import pandas as pd\n",
    "from sklearn.model_selection import GroupShuffleSplit\n",
    "\n",
    "# 限制每组的最大样本数\n",
    "max_group_size = 10000\n",
    "\n",
    "# 对分组进行裁剪\n",
    "data_grouped = data.groupby(\"username\").apply(\n",
    "    lambda x: x.head(max_group_size) if len(x) > max_group_size else x\n",
    ").reset_index(drop=True)\n",
    "\n",
    "# 更新特征和标签\n",
    "features = [\"score\", \"rank_normalized\", \"popularity_log\", \"favorites_log\", \"scored_by_log\", \"members_log\"]\n",
    "X = data_grouped[features]  # 特征\n",
    "y = data_grouped[\"my_score\"]  # 标签\n",
    "\n",
    "# 更新分组信息\n",
    "data_grouped[\"group\"] = data_grouped[\"username\"].astype(\"category\").cat.codes\n",
    "groups = data_grouped.groupby(\"group\").size().values\n",
    "\n",
    "# 检查分组和数据一致性\n",
    "print(f\"Features shape: {X.shape}\")\n",
    "print(f\"Labels shape: {y.shape}\")\n",
    "print(f\"Unique groups (after trimming): {data_grouped['group'].nunique()}\")\n",
    "print(f\"Groups sum (total rows): {groups.sum()}, Data rows: {len(X)}\")\n",
    "\n",
    "# 数据集划分\n",
    "splitter = GroupShuffleSplit(n_splits=1, test_size=0.2, random_state=42)\n",
    "train_idx, test_idx = next(splitter.split(X, y, groups=data_grouped[\"group\"]))\n",
    "\n",
    "# 按索引划分数据集\n",
    "X_train, X_test = X.iloc[train_idx], X.iloc[test_idx]\n",
    "y_train, y_test = y.iloc[train_idx], y.iloc[test_idx]\n",
    "\n",
    "# 针对训练集和测试集重新生成分组信息\n",
    "groups_train = data_grouped.iloc[train_idx].groupby(\"group\").size().values\n",
    "groups_test = data_grouped.iloc[test_idx].groupby(\"group\").size().values\n",
    "\n",
    "# 确保分组一致性\n",
    "assert groups_train.sum() == len(X_train), f\"Groups_train sum {groups_train.sum()} does not match training data length {len(X_train)}\"\n",
    "assert groups_test.sum() == len(X_test), f\"Groups_test sum {groups_test.sum()} does not match test data length {len(X_test)}\"\n",
    "\n",
    "# 检查划分结果\n",
    "print(f\"Training set size: {X_train.shape}, Test set size: {X_test.shape}\")\n",
    "print(f\"Training groups size: {len(groups_train)}, Test groups size: {len(groups_test)}\")\n",
    "print(f\"Training groups sum: {groups_train.sum()}, Test groups sum: {groups_test.sum()}\")\n",
    "\n"
   ]
  },
  {
   "cell_type": "code",
   "execution_count": 32,
   "metadata": {},
   "outputs": [
    {
     "name": "stderr",
     "output_type": "stream",
     "text": [
      "[I 2024-12-12 04:30:24,656] A new study created in memory with name: no-name-8cf8c65a-d147-4841-b3ca-50555527e177\n"
     ]
    },
    {
     "name": "stdout",
     "output_type": "stream",
     "text": [
      "Training until validation scores don't improve for 10 rounds\n",
      "[10]\ttrain's ndcg@10: 0.536602\ttest's ndcg@10: 0.550126\n"
     ]
    },
    {
     "name": "stderr",
     "output_type": "stream",
     "text": [
      "[I 2024-12-12 04:30:25,056] Trial 0 finished with value: 0.5594071381024125 and parameters: {'learning_rate': 0.0015240368325480295, 'num_leaves': 79, 'min_data_in_leaf': 40, 'max_depth': 7, 'feature_fraction': 0.6456601236508803, 'bagging_fraction': 0.8134610517895193, 'bagging_freq': 8}. Best is trial 0 with value: 0.5594071381024125.\n"
     ]
    },
    {
     "name": "stdout",
     "output_type": "stream",
     "text": [
      "[20]\ttrain's ndcg@10: 0.542202\ttest's ndcg@10: 0.556305\n",
      "Early stopping, best iteration is:\n",
      "[17]\ttrain's ndcg@10: 0.537639\ttest's ndcg@10: 0.559407\n",
      "Training until validation scores don't improve for 10 rounds\n",
      "[10]\ttrain's ndcg@10: 0.528871\ttest's ndcg@10: 0.548663\n",
      "[20]\ttrain's ndcg@10: 0.535087\ttest's ndcg@10: 0.553339\n",
      "[30]\ttrain's ndcg@10: 0.536239\ttest's ndcg@10: 0.560282\n"
     ]
    },
    {
     "name": "stderr",
     "output_type": "stream",
     "text": [
      "[I 2024-12-12 04:30:25,461] Trial 1 finished with value: 0.5671696502501137 and parameters: {'learning_rate': 0.019755613816473422, 'num_leaves': 19, 'min_data_in_leaf': 24, 'max_depth': 8, 'feature_fraction': 0.7079050570694735, 'bagging_fraction': 0.682807881190746, 'bagging_freq': 3}. Best is trial 1 with value: 0.5671696502501137.\n"
     ]
    },
    {
     "name": "stdout",
     "output_type": "stream",
     "text": [
      "[40]\ttrain's ndcg@10: 0.538048\ttest's ndcg@10: 0.561564\n",
      "Early stopping, best iteration is:\n",
      "[33]\ttrain's ndcg@10: 0.537989\ttest's ndcg@10: 0.56717\n",
      "Training until validation scores don't improve for 10 rounds\n",
      "[10]\ttrain's ndcg@10: 0.525533\ttest's ndcg@10: 0.551361\n"
     ]
    },
    {
     "name": "stderr",
     "output_type": "stream",
     "text": [
      "[I 2024-12-12 04:30:25,706] Trial 2 finished with value: 0.5540608998315789 and parameters: {'learning_rate': 0.0034871699293900745, 'num_leaves': 18, 'min_data_in_leaf': 21, 'max_depth': 5, 'feature_fraction': 0.997062877610588, 'bagging_fraction': 0.9000164536476236, 'bagging_freq': 7}. Best is trial 1 with value: 0.5671696502501137.\n"
     ]
    },
    {
     "name": "stdout",
     "output_type": "stream",
     "text": [
      "[20]\ttrain's ndcg@10: 0.529447\ttest's ndcg@10: 0.552798\n",
      "Early stopping, best iteration is:\n",
      "[15]\ttrain's ndcg@10: 0.52451\ttest's ndcg@10: 0.554061\n",
      "Training until validation scores don't improve for 10 rounds\n",
      "[10]\ttrain's ndcg@10: 0.537358\ttest's ndcg@10: 0.548369\n",
      "Early stopping, best iteration is:\n",
      "[2]\ttrain's ndcg@10: 0.525221\ttest's ndcg@10: 0.562633\n"
     ]
    },
    {
     "name": "stderr",
     "output_type": "stream",
     "text": [
      "[I 2024-12-12 04:30:25,851] Trial 3 finished with value: 0.5626326848767742 and parameters: {'learning_rate': 0.04123691043427655, 'num_leaves': 30, 'min_data_in_leaf': 28, 'max_depth': 10, 'feature_fraction': 0.7373624080417095, 'bagging_fraction': 0.8650635710635902, 'bagging_freq': 5}. Best is trial 1 with value: 0.5671696502501137.\n"
     ]
    },
    {
     "name": "stdout",
     "output_type": "stream",
     "text": [
      "Training until validation scores don't improve for 10 rounds\n",
      "[10]\ttrain's ndcg@10: 0.535926\ttest's ndcg@10: 0.542186\n",
      "[20]\ttrain's ndcg@10: 0.538957\ttest's ndcg@10: 0.543094\n"
     ]
    },
    {
     "name": "stderr",
     "output_type": "stream",
     "text": [
      "[I 2024-12-12 04:30:26,220] Trial 4 finished with value: 0.5471513547137081 and parameters: {'learning_rate': 0.002036575821067691, 'num_leaves': 106, 'min_data_in_leaf': 6, 'max_depth': 7, 'feature_fraction': 0.667484184844802, 'bagging_fraction': 0.750546612413289, 'bagging_freq': 7}. Best is trial 1 with value: 0.5671696502501137.\n"
     ]
    },
    {
     "name": "stdout",
     "output_type": "stream",
     "text": [
      "[30]\ttrain's ndcg@10: 0.541507\ttest's ndcg@10: 0.544014\n",
      "Early stopping, best iteration is:\n",
      "[24]\ttrain's ndcg@10: 0.542716\ttest's ndcg@10: 0.547151\n",
      "Training until validation scores don't improve for 10 rounds\n",
      "[10]\ttrain's ndcg@10: 0.536728\ttest's ndcg@10: 0.547206\n"
     ]
    },
    {
     "name": "stderr",
     "output_type": "stream",
     "text": [
      "[I 2024-12-12 04:30:26,504] Trial 5 finished with value: 0.5497006525250714 and parameters: {'learning_rate': 0.009065029776004362, 'num_leaves': 101, 'min_data_in_leaf': 7, 'max_depth': 6, 'feature_fraction': 0.9935738229019611, 'bagging_fraction': 0.6560403811241811, 'bagging_freq': 7}. Best is trial 1 with value: 0.5671696502501137.\n"
     ]
    },
    {
     "name": "stdout",
     "output_type": "stream",
     "text": [
      "[20]\ttrain's ndcg@10: 0.539597\ttest's ndcg@10: 0.54531\n",
      "Early stopping, best iteration is:\n",
      "[18]\ttrain's ndcg@10: 0.539023\ttest's ndcg@10: 0.549701\n",
      "Training until validation scores don't improve for 10 rounds\n",
      "[10]\ttrain's ndcg@10: 0.514981\ttest's ndcg@10: 0.547592\n",
      "Early stopping, best iteration is:\n",
      "[2]\ttrain's ndcg@10: 0.509417\ttest's ndcg@10: 0.551585\n"
     ]
    },
    {
     "name": "stderr",
     "output_type": "stream",
     "text": [
      "[I 2024-12-12 04:30:26,641] Trial 6 finished with value: 0.551584607167554 and parameters: {'learning_rate': 0.0011861112099444374, 'num_leaves': 104, 'min_data_in_leaf': 17, 'max_depth': 4, 'feature_fraction': 0.9319050096735632, 'bagging_fraction': 0.8453360230491234, 'bagging_freq': 7}. Best is trial 1 with value: 0.5671696502501137.\n"
     ]
    },
    {
     "name": "stdout",
     "output_type": "stream",
     "text": [
      "Training until validation scores don't improve for 10 rounds\n",
      "[10]\ttrain's ndcg@10: 0.537149\ttest's ndcg@10: 0.546087\n",
      "[20]\ttrain's ndcg@10: 0.536079\ttest's ndcg@10: 0.563753\n"
     ]
    },
    {
     "name": "stderr",
     "output_type": "stream",
     "text": [
      "[I 2024-12-12 04:30:26,959] Trial 7 finished with value: 0.5660392228375097 and parameters: {'learning_rate': 0.00229174512679555, 'num_leaves': 96, 'min_data_in_leaf': 46, 'max_depth': 6, 'feature_fraction': 0.9271893308378163, 'bagging_fraction': 0.6005869824110983, 'bagging_freq': 6}. Best is trial 1 with value: 0.5671696502501137.\n"
     ]
    },
    {
     "name": "stdout",
     "output_type": "stream",
     "text": [
      "[30]\ttrain's ndcg@10: 0.537751\ttest's ndcg@10: 0.560193\n",
      "Early stopping, best iteration is:\n",
      "[21]\ttrain's ndcg@10: 0.538008\ttest's ndcg@10: 0.566039\n",
      "Training until validation scores don't improve for 10 rounds\n"
     ]
    },
    {
     "name": "stderr",
     "output_type": "stream",
     "text": [
      "[I 2024-12-12 04:30:27,279] Trial 8 finished with value: 0.5604544735497907 and parameters: {'learning_rate': 0.006078727554609479, 'num_leaves': 122, 'min_data_in_leaf': 39, 'max_depth': 10, 'feature_fraction': 0.7721663063201348, 'bagging_fraction': 0.9674955912605591, 'bagging_freq': 1}. Best is trial 1 with value: 0.5671696502501137.\n"
     ]
    },
    {
     "name": "stdout",
     "output_type": "stream",
     "text": [
      "[10]\ttrain's ndcg@10: 0.545411\ttest's ndcg@10: 0.554243\n",
      "[20]\ttrain's ndcg@10: 0.547009\ttest's ndcg@10: 0.559148\n",
      "Early stopping, best iteration is:\n",
      "[12]\ttrain's ndcg@10: 0.548417\ttest's ndcg@10: 0.560454\n",
      "Training until validation scores don't improve for 10 rounds\n"
     ]
    },
    {
     "name": "stderr",
     "output_type": "stream",
     "text": [
      "[I 2024-12-12 04:30:27,578] Trial 9 finished with value: 0.5670707225183695 and parameters: {'learning_rate': 0.07574899630770177, 'num_leaves': 31, 'min_data_in_leaf': 38, 'max_depth': 7, 'feature_fraction': 0.6689151391764575, 'bagging_fraction': 0.6721079661866155, 'bagging_freq': 3}. Best is trial 1 with value: 0.5671696502501137.\n"
     ]
    },
    {
     "name": "stdout",
     "output_type": "stream",
     "text": [
      "[10]\ttrain's ndcg@10: 0.544505\ttest's ndcg@10: 0.555077\n",
      "[20]\ttrain's ndcg@10: 0.545504\ttest's ndcg@10: 0.563277\n",
      "Early stopping, best iteration is:\n",
      "[17]\ttrain's ndcg@10: 0.543748\ttest's ndcg@10: 0.567071\n",
      "Training until validation scores don't improve for 10 rounds\n",
      "[10]\ttrain's ndcg@10: 0.539265\ttest's ndcg@10: 0.545367\n",
      "[20]\ttrain's ndcg@10: 0.545676\ttest's ndcg@10: 0.561528\n"
     ]
    },
    {
     "name": "stderr",
     "output_type": "stream",
     "text": [
      "[I 2024-12-12 04:30:28,012] Trial 10 finished with value: 0.5616203162554982 and parameters: {'learning_rate': 0.03082460393195987, 'num_leaves': 54, 'min_data_in_leaf': 26, 'max_depth': 9, 'feature_fraction': 0.8323155862522714, 'bagging_fraction': 0.7391840708742233, 'bagging_freq': 10}. Best is trial 1 with value: 0.5671696502501137.\n"
     ]
    },
    {
     "name": "stdout",
     "output_type": "stream",
     "text": [
      "[30]\ttrain's ndcg@10: 0.547378\ttest's ndcg@10: 0.559028\n",
      "Early stopping, best iteration is:\n",
      "[26]\ttrain's ndcg@10: 0.548014\ttest's ndcg@10: 0.56162\n",
      "Training until validation scores don't improve for 10 rounds\n"
     ]
    },
    {
     "name": "stderr",
     "output_type": "stream",
     "text": [
      "[I 2024-12-12 04:30:28,301] Trial 11 finished with value: 0.5605932643485371 and parameters: {'learning_rate': 0.09621717881139727, 'num_leaves': 44, 'min_data_in_leaf': 35, 'max_depth': 8, 'feature_fraction': 0.6095132832067559, 'bagging_fraction': 0.6946750518202791, 'bagging_freq': 3}. Best is trial 1 with value: 0.5671696502501137.\n"
     ]
    },
    {
     "name": "stdout",
     "output_type": "stream",
     "text": [
      "[10]\ttrain's ndcg@10: 0.547465\ttest's ndcg@10: 0.557385\n",
      "[20]\ttrain's ndcg@10: 0.548743\ttest's ndcg@10: 0.552293\n",
      "Early stopping, best iteration is:\n",
      "[11]\ttrain's ndcg@10: 0.5494\ttest's ndcg@10: 0.560593\n",
      "Training until validation scores don't improve for 10 rounds\n"
     ]
    },
    {
     "name": "stderr",
     "output_type": "stream",
     "text": [
      "[I 2024-12-12 04:30:28,636] Trial 12 finished with value: 0.5559260988297647 and parameters: {'learning_rate': 0.023137383245143892, 'num_leaves': 18, 'min_data_in_leaf': 29, 'max_depth': 8, 'feature_fraction': 0.7068428355373081, 'bagging_fraction': 0.6009523337899104, 'bagging_freq': 3}. Best is trial 1 with value: 0.5671696502501137.\n"
     ]
    },
    {
     "name": "stdout",
     "output_type": "stream",
     "text": [
      "[10]\ttrain's ndcg@10: 0.53108\ttest's ndcg@10: 0.543761\n",
      "[20]\ttrain's ndcg@10: 0.538115\ttest's ndcg@10: 0.555926\n",
      "[30]\ttrain's ndcg@10: 0.539477\ttest's ndcg@10: 0.55426\n",
      "Early stopping, best iteration is:\n",
      "[20]\ttrain's ndcg@10: 0.538115\ttest's ndcg@10: 0.555926\n"
     ]
    },
    {
     "name": "stderr",
     "output_type": "stream",
     "text": [
      "[I 2024-12-12 04:30:28,836] Trial 13 finished with value: 0.5481865878695976 and parameters: {'learning_rate': 0.09666487773705504, 'num_leaves': 54, 'min_data_in_leaf': 50, 'max_depth': 3, 'feature_fraction': 0.8227998316723119, 'bagging_fraction': 0.6823375194136995, 'bagging_freq': 3}. Best is trial 1 with value: 0.5671696502501137.\n"
     ]
    },
    {
     "name": "stdout",
     "output_type": "stream",
     "text": [
      "Training until validation scores don't improve for 10 rounds\n",
      "[10]\ttrain's ndcg@10: 0.524146\ttest's ndcg@10: 0.541677\n",
      "Early stopping, best iteration is:\n",
      "[4]\ttrain's ndcg@10: 0.521977\ttest's ndcg@10: 0.548187\n",
      "Training until validation scores don't improve for 10 rounds\n",
      "[10]\ttrain's ndcg@10: 0.540401\ttest's ndcg@10: 0.549023\n",
      "[20]\ttrain's ndcg@10: 0.544326\ttest's ndcg@10: 0.557889\n"
     ]
    },
    {
     "name": "stderr",
     "output_type": "stream",
     "text": [
      "[I 2024-12-12 04:30:29,197] Trial 14 finished with value: 0.5627778453693548 and parameters: {'learning_rate': 0.01658444921076434, 'num_leaves': 37, 'min_data_in_leaf': 14, 'max_depth': 8, 'feature_fraction': 0.704828902540015, 'bagging_fraction': 0.7650602702204607, 'bagging_freq': 1}. Best is trial 1 with value: 0.5671696502501137.\n"
     ]
    },
    {
     "name": "stdout",
     "output_type": "stream",
     "text": [
      "Early stopping, best iteration is:\n",
      "[18]\ttrain's ndcg@10: 0.544824\ttest's ndcg@10: 0.562778\n",
      "Training until validation scores don't improve for 10 rounds\n",
      "[10]\ttrain's ndcg@10: 0.546182\ttest's ndcg@10: 0.543995\n"
     ]
    },
    {
     "name": "stderr",
     "output_type": "stream",
     "text": [
      "[I 2024-12-12 04:30:29,578] Trial 15 finished with value: 0.5536422636110232 and parameters: {'learning_rate': 0.05909484606795963, 'num_leaves': 71, 'min_data_in_leaf': 34, 'max_depth': 9, 'feature_fraction': 0.756378761614349, 'bagging_fraction': 0.6424958435163907, 'bagging_freq': 5}. Best is trial 1 with value: 0.5671696502501137.\n"
     ]
    },
    {
     "name": "stdout",
     "output_type": "stream",
     "text": [
      "[20]\ttrain's ndcg@10: 0.549991\ttest's ndcg@10: 0.549353\n",
      "[30]\ttrain's ndcg@10: 0.549517\ttest's ndcg@10: 0.551637\n",
      "Early stopping, best iteration is:\n",
      "[22]\ttrain's ndcg@10: 0.548096\ttest's ndcg@10: 0.553642\n",
      "Training until validation scores don't improve for 10 rounds\n"
     ]
    },
    {
     "name": "stderr",
     "output_type": "stream",
     "text": [
      "[I 2024-12-12 04:30:29,760] Trial 16 finished with value: 0.542529524869322 and parameters: {'learning_rate': 0.01302103144588987, 'num_leaves': 26, 'min_data_in_leaf': 22, 'max_depth': 5, 'feature_fraction': 0.6108685709810816, 'bagging_fraction': 0.7236532356322024, 'bagging_freq': 4}. Best is trial 1 with value: 0.5671696502501137.\n"
     ]
    },
    {
     "name": "stdout",
     "output_type": "stream",
     "text": [
      "[10]\ttrain's ndcg@10: 0.532911\ttest's ndcg@10: 0.541703\n",
      "Early stopping, best iteration is:\n",
      "[1]\ttrain's ndcg@10: 0.510015\ttest's ndcg@10: 0.54253\n",
      "Training until validation scores don't improve for 10 rounds\n",
      "[10]\ttrain's ndcg@10: 0.544961\ttest's ndcg@10: 0.555107\n"
     ]
    },
    {
     "name": "stderr",
     "output_type": "stream",
     "text": [
      "[I 2024-12-12 04:30:30,142] Trial 17 finished with value: 0.5631808776876738 and parameters: {'learning_rate': 0.05667186298235295, 'num_leaves': 48, 'min_data_in_leaf': 33, 'max_depth': 7, 'feature_fraction': 0.6633848293657808, 'bagging_fraction': 0.7979831175907873, 'bagging_freq': 2}. Best is trial 1 with value: 0.5671696502501137.\n"
     ]
    },
    {
     "name": "stdout",
     "output_type": "stream",
     "text": [
      "[20]\ttrain's ndcg@10: 0.549284\ttest's ndcg@10: 0.56084\n",
      "[30]\ttrain's ndcg@10: 0.551356\ttest's ndcg@10: 0.559552\n",
      "Early stopping, best iteration is:\n",
      "[23]\ttrain's ndcg@10: 0.550317\ttest's ndcg@10: 0.563181\n",
      "Training until validation scores don't improve for 10 rounds\n",
      "[10]\ttrain's ndcg@10: 0.540033\ttest's ndcg@10: 0.540653\n",
      "[20]\ttrain's ndcg@10: 0.543366\ttest's ndcg@10: 0.556736\n"
     ]
    },
    {
     "name": "stderr",
     "output_type": "stream",
     "text": [
      "[I 2024-12-12 04:30:30,471] Trial 18 finished with value: 0.5586710222693756 and parameters: {'learning_rate': 0.0054564523962765815, 'num_leaves': 66, 'min_data_in_leaf': 42, 'max_depth': 9, 'feature_fraction': 0.7071212935775951, 'bagging_fraction': 0.6562470366300149, 'bagging_freq': 4}. Best is trial 1 with value: 0.5671696502501137.\n"
     ]
    },
    {
     "name": "stdout",
     "output_type": "stream",
     "text": [
      "Early stopping, best iteration is:\n",
      "[16]\ttrain's ndcg@10: 0.543298\ttest's ndcg@10: 0.558671\n",
      "Training until validation scores don't improve for 10 rounds\n",
      "[10]\ttrain's ndcg@10: 0.536368\ttest's ndcg@10: 0.550008\n",
      "[20]\ttrain's ndcg@10: 0.536952\ttest's ndcg@10: 0.557646\n",
      "[30]\ttrain's ndcg@10: 0.541315\ttest's ndcg@10: 0.560564\n",
      "[40]\ttrain's ndcg@10: 0.541249\ttest's ndcg@10: 0.55855\n",
      "Early stopping, best iteration is:\n",
      "[31]\ttrain's ndcg@10: 0.540813\ttest's ndcg@10: 0.561694\n"
     ]
    },
    {
     "name": "stderr",
     "output_type": "stream",
     "text": [
      "[I 2024-12-12 04:30:30,906] Trial 19 finished with value: 0.5616940153114816 and parameters: {'learning_rate': 0.021696782358187318, 'num_leaves': 33, 'min_data_in_leaf': 13, 'max_depth': 5, 'feature_fraction': 0.8661109995325068, 'bagging_fraction': 0.7128264758413285, 'bagging_freq': 2}. Best is trial 1 with value: 0.5671696502501137.\n"
     ]
    },
    {
     "name": "stdout",
     "output_type": "stream",
     "text": [
      "Training until validation scores don't improve for 10 rounds\n",
      "[10]\ttrain's ndcg@10: 0.536123\ttest's ndcg@10: 0.540318\n",
      "[20]\ttrain's ndcg@10: 0.54551\ttest's ndcg@10: 0.549079\n"
     ]
    },
    {
     "name": "stderr",
     "output_type": "stream",
     "text": [
      "[I 2024-12-12 04:30:31,281] Trial 20 finished with value: 0.5527298701800808 and parameters: {'learning_rate': 0.042192093076186106, 'num_leaves': 85, 'min_data_in_leaf': 24, 'max_depth': 6, 'feature_fraction': 0.7908643865174544, 'bagging_fraction': 0.7843501200766693, 'bagging_freq': 4}. Best is trial 1 with value: 0.5671696502501137.\n"
     ]
    },
    {
     "name": "stdout",
     "output_type": "stream",
     "text": [
      "Early stopping, best iteration is:\n",
      "[16]\ttrain's ndcg@10: 0.543891\ttest's ndcg@10: 0.55273\n",
      "Training until validation scores don't improve for 10 rounds\n",
      "[10]\ttrain's ndcg@10: 0.535497\ttest's ndcg@10: 0.554437\n",
      "[20]\ttrain's ndcg@10: 0.54078\ttest's ndcg@10: 0.564076\n",
      "[30]\ttrain's ndcg@10: 0.541076\ttest's ndcg@10: 0.565708\n",
      "Early stopping, best iteration is:\n",
      "[28]\ttrain's ndcg@10: 0.540669\ttest's ndcg@10: 0.56977\n"
     ]
    },
    {
     "name": "stderr",
     "output_type": "stream",
     "text": [
      "[I 2024-12-12 04:30:31,728] Trial 21 finished with value: 0.5697703155648493 and parameters: {'learning_rate': 0.008759989599759153, 'num_leaves': 93, 'min_data_in_leaf': 50, 'max_depth': 6, 'feature_fraction': 0.9255868118263204, 'bagging_fraction': 0.6002894416647728, 'bagging_freq': 6}. Best is trial 21 with value: 0.5697703155648493.\n"
     ]
    },
    {
     "name": "stdout",
     "output_type": "stream",
     "text": [
      "Training until validation scores don't improve for 10 rounds\n",
      "[10]\ttrain's ndcg@10: 0.53746\ttest's ndcg@10: 0.542757\n",
      "[20]\ttrain's ndcg@10: 0.540559\ttest's ndcg@10: 0.549798\n",
      "[30]\ttrain's ndcg@10: 0.54352\ttest's ndcg@10: 0.547713\n",
      "[40]\ttrain's ndcg@10: 0.543509\ttest's ndcg@10: 0.549642\n",
      "Early stopping, best iteration is:\n",
      "[35]\ttrain's ndcg@10: 0.543146\ttest's ndcg@10: 0.551662\n"
     ]
    },
    {
     "name": "stderr",
     "output_type": "stream",
     "text": [
      "[I 2024-12-12 04:30:32,374] Trial 22 finished with value: 0.551662023345003 and parameters: {'learning_rate': 0.008257912390462543, 'num_leaves': 124, 'min_data_in_leaf': 47, 'max_depth': 7, 'feature_fraction': 0.8818905556225308, 'bagging_fraction': 0.632724447719754, 'bagging_freq': 9}. Best is trial 21 with value: 0.5697703155648493.\n"
     ]
    },
    {
     "name": "stdout",
     "output_type": "stream",
     "text": [
      "Training until validation scores don't improve for 10 rounds\n",
      "[10]\ttrain's ndcg@10: 0.540965\ttest's ndcg@10: 0.553052\n",
      "[20]\ttrain's ndcg@10: 0.547201\ttest's ndcg@10: 0.56606\n",
      "[30]\ttrain's ndcg@10: 0.546773\ttest's ndcg@10: 0.566791\n",
      "Early stopping, best iteration is:\n",
      "[28]\ttrain's ndcg@10: 0.548523\ttest's ndcg@10: 0.570618\n"
     ]
    },
    {
     "name": "stderr",
     "output_type": "stream",
     "text": [
      "[I 2024-12-12 04:30:32,907] Trial 23 finished with value: 0.5706178277088397 and parameters: {'learning_rate': 0.013705150021501142, 'num_leaves': 62, 'min_data_in_leaf': 44, 'max_depth': 8, 'feature_fraction': 0.737022534793367, 'bagging_fraction': 0.68299068522948, 'bagging_freq': 6}. Best is trial 23 with value: 0.5706178277088397.\n"
     ]
    },
    {
     "name": "stdout",
     "output_type": "stream",
     "text": [
      "Training until validation scores don't improve for 10 rounds\n",
      "[10]\ttrain's ndcg@10: 0.542814\ttest's ndcg@10: 0.546655\n",
      "[20]\ttrain's ndcg@10: 0.54616\ttest's ndcg@10: 0.541259\n"
     ]
    },
    {
     "name": "stderr",
     "output_type": "stream",
     "text": [
      "[I 2024-12-12 04:30:33,348] Trial 24 finished with value: 0.5544219406514448 and parameters: {'learning_rate': 0.013310124777212598, 'num_leaves': 87, 'min_data_in_leaf': 44, 'max_depth': 8, 'feature_fraction': 0.731233211838401, 'bagging_fraction': 0.624007618904849, 'bagging_freq': 6}. Best is trial 23 with value: 0.5706178277088397.\n"
     ]
    },
    {
     "name": "stdout",
     "output_type": "stream",
     "text": [
      "[30]\ttrain's ndcg@10: 0.54625\ttest's ndcg@10: 0.546251\n",
      "Early stopping, best iteration is:\n",
      "[25]\ttrain's ndcg@10: 0.547064\ttest's ndcg@10: 0.554422\n",
      "Training until validation scores don't improve for 10 rounds\n",
      "[10]\ttrain's ndcg@10: 0.538244\ttest's ndcg@10: 0.551947\n",
      "[20]\ttrain's ndcg@10: 0.545402\ttest's ndcg@10: 0.557303\n",
      "[30]\ttrain's ndcg@10: 0.546735\ttest's ndcg@10: 0.552322\n"
     ]
    },
    {
     "name": "stderr",
     "output_type": "stream",
     "text": [
      "[I 2024-12-12 04:30:33,753] Trial 25 finished with value: 0.5620886757541691 and parameters: {'learning_rate': 0.004731233685257507, 'num_leaves': 67, 'min_data_in_leaf': 48, 'max_depth': 9, 'feature_fraction': 0.8072464259160271, 'bagging_fraction': 0.7047122285048725, 'bagging_freq': 5}. Best is trial 23 with value: 0.5706178277088397.\n"
     ]
    },
    {
     "name": "stdout",
     "output_type": "stream",
     "text": [
      "Early stopping, best iteration is:\n",
      "[23]\ttrain's ndcg@10: 0.546461\ttest's ndcg@10: 0.562089\n",
      "Training until validation scores don't improve for 10 rounds\n",
      "[10]\ttrain's ndcg@10: 0.53932\ttest's ndcg@10: 0.552901\n"
     ]
    },
    {
     "name": "stderr",
     "output_type": "stream",
     "text": [
      "[I 2024-12-12 04:30:34,122] Trial 26 finished with value: 0.5658913515787937 and parameters: {'learning_rate': 0.020915064841816895, 'num_leaves': 60, 'min_data_in_leaf': 31, 'max_depth': 8, 'feature_fraction': 0.9515594896858677, 'bagging_fraction': 0.6203031198782301, 'bagging_freq': 8}. Best is trial 23 with value: 0.5706178277088397.\n"
     ]
    },
    {
     "name": "stdout",
     "output_type": "stream",
     "text": [
      "[20]\ttrain's ndcg@10: 0.543381\ttest's ndcg@10: 0.564212\n",
      "[30]\ttrain's ndcg@10: 0.546885\ttest's ndcg@10: 0.557048\n",
      "Early stopping, best iteration is:\n",
      "[21]\ttrain's ndcg@10: 0.543257\ttest's ndcg@10: 0.565891\n",
      "Training until validation scores don't improve for 10 rounds\n"
     ]
    },
    {
     "name": "stderr",
     "output_type": "stream",
     "text": [
      "[I 2024-12-12 04:30:34,447] Trial 27 finished with value: 0.5597515797933444 and parameters: {'learning_rate': 0.013269721284189137, 'num_leaves': 110, 'min_data_in_leaf': 44, 'max_depth': 6, 'feature_fraction': 0.8637951190502866, 'bagging_fraction': 0.6628800746786879, 'bagging_freq': 6}. Best is trial 23 with value: 0.5706178277088397.\n"
     ]
    },
    {
     "name": "stdout",
     "output_type": "stream",
     "text": [
      "[10]\ttrain's ndcg@10: 0.538977\ttest's ndcg@10: 0.546595\n",
      "[20]\ttrain's ndcg@10: 0.541957\ttest's ndcg@10: 0.548074\n",
      "Early stopping, best iteration is:\n",
      "[16]\ttrain's ndcg@10: 0.540321\ttest's ndcg@10: 0.559752\n"
     ]
    },
    {
     "name": "stderr",
     "output_type": "stream",
     "text": [
      "[I 2024-12-12 04:30:34,699] Trial 28 finished with value: 0.5554060030665319 and parameters: {'learning_rate': 0.0073532950503829445, 'num_leaves': 92, 'min_data_in_leaf': 18, 'max_depth': 4, 'feature_fraction': 0.7679010560459165, 'bagging_fraction': 0.9979366396294195, 'bagging_freq': 8}. Best is trial 23 with value: 0.5706178277088397.\n"
     ]
    },
    {
     "name": "stdout",
     "output_type": "stream",
     "text": [
      "Training until validation scores don't improve for 10 rounds\n",
      "[10]\ttrain's ndcg@10: 0.522084\ttest's ndcg@10: 0.554461\n",
      "[20]\ttrain's ndcg@10: 0.528034\ttest's ndcg@10: 0.547705\n",
      "Early stopping, best iteration is:\n",
      "[11]\ttrain's ndcg@10: 0.52151\ttest's ndcg@10: 0.555406\n",
      "Training until validation scores don't improve for 10 rounds\n",
      "[10]\ttrain's ndcg@10: 0.54025\ttest's ndcg@10: 0.554345\n",
      "[20]\ttrain's ndcg@10: 0.542023\ttest's ndcg@10: 0.560013\n"
     ]
    },
    {
     "name": "stderr",
     "output_type": "stream",
     "text": [
      "[I 2024-12-12 04:30:35,059] Trial 29 finished with value: 0.5633769321965075 and parameters: {'learning_rate': 0.010249012936864903, 'num_leaves': 79, 'min_data_in_leaf': 38, 'max_depth': 7, 'feature_fraction': 0.6379997717897931, 'bagging_fraction': 0.6940210478089963, 'bagging_freq': 9}. Best is trial 23 with value: 0.5706178277088397.\n"
     ]
    },
    {
     "name": "stdout",
     "output_type": "stream",
     "text": [
      "Early stopping, best iteration is:\n",
      "[18]\ttrain's ndcg@10: 0.54135\ttest's ndcg@10: 0.563377\n",
      "Training until validation scores don't improve for 10 rounds\n",
      "[10]\ttrain's ndcg@10: 0.540775\ttest's ndcg@10: 0.548505\n"
     ]
    },
    {
     "name": "stderr",
     "output_type": "stream",
     "text": [
      "[I 2024-12-12 04:30:35,476] Trial 30 finished with value: 0.5608602212376221 and parameters: {'learning_rate': 0.0036760826646496532, 'num_leaves': 75, 'min_data_in_leaf': 42, 'max_depth': 10, 'feature_fraction': 0.7366112652165553, 'bagging_fraction': 0.7712688109033041, 'bagging_freq': 5}. Best is trial 23 with value: 0.5706178277088397.\n"
     ]
    },
    {
     "name": "stdout",
     "output_type": "stream",
     "text": [
      "[20]\ttrain's ndcg@10: 0.548805\ttest's ndcg@10: 0.557776\n",
      "[30]\ttrain's ndcg@10: 0.551793\ttest's ndcg@10: 0.557547\n",
      "Early stopping, best iteration is:\n",
      "[25]\ttrain's ndcg@10: 0.548623\ttest's ndcg@10: 0.56086\n",
      "Training until validation scores don't improve for 10 rounds\n",
      "[10]\ttrain's ndcg@10: 0.53664\ttest's ndcg@10: 0.550232\n",
      "[20]\ttrain's ndcg@10: 0.54404\ttest's ndcg@10: 0.560413\n"
     ]
    },
    {
     "name": "stderr",
     "output_type": "stream",
     "text": [
      "[I 2024-12-12 04:30:35,960] Trial 31 finished with value: 0.563657798420201 and parameters: {'learning_rate': 0.03049591786675154, 'num_leaves': 24, 'min_data_in_leaf': 50, 'max_depth': 7, 'feature_fraction': 0.6663481791619004, 'bagging_fraction': 0.674069076966135, 'bagging_freq': 2}. Best is trial 23 with value: 0.5706178277088397.\n"
     ]
    },
    {
     "name": "stdout",
     "output_type": "stream",
     "text": [
      "[30]\ttrain's ndcg@10: 0.544196\ttest's ndcg@10: 0.560956\n",
      "[40]\ttrain's ndcg@10: 0.54536\ttest's ndcg@10: 0.56216\n",
      "Early stopping, best iteration is:\n",
      "[39]\ttrain's ndcg@10: 0.545589\ttest's ndcg@10: 0.563658\n",
      "Training until validation scores don't improve for 10 rounds\n",
      "[10]\ttrain's ndcg@10: 0.535954\ttest's ndcg@10: 0.556506\n",
      "[20]\ttrain's ndcg@10: 0.540431\ttest's ndcg@10: 0.559898\n",
      "Early stopping, best iteration is:\n",
      "[16]\ttrain's ndcg@10: 0.539612\ttest's ndcg@10: 0.560928\n"
     ]
    },
    {
     "name": "stderr",
     "output_type": "stream",
     "text": [
      "[I 2024-12-12 04:30:36,268] Trial 32 finished with value: 0.5609278729659412 and parameters: {'learning_rate': 0.06464991843072566, 'num_leaves': 17, 'min_data_in_leaf': 42, 'max_depth': 8, 'feature_fraction': 0.6928495982559436, 'bagging_fraction': 0.8267499648030148, 'bagging_freq': 4}. Best is trial 23 with value: 0.5706178277088397.\n",
      "[I 2024-12-12 04:30:36,456] Trial 33 finished with value: 0.5444250172738686 and parameters: {'learning_rate': 0.01697341261020869, 'num_leaves': 42, 'min_data_in_leaf': 37, 'max_depth': 5, 'feature_fraction': 0.6341219404606013, 'bagging_fraction': 0.7310186530563214, 'bagging_freq': 6}. Best is trial 23 with value: 0.5706178277088397.\n"
     ]
    },
    {
     "name": "stdout",
     "output_type": "stream",
     "text": [
      "Training until validation scores don't improve for 10 rounds\n",
      "[10]\ttrain's ndcg@10: 0.535272\ttest's ndcg@10: 0.537275\n",
      "Early stopping, best iteration is:\n",
      "[1]\ttrain's ndcg@10: 0.519908\ttest's ndcg@10: 0.544425\n",
      "Training until validation scores don't improve for 10 rounds\n"
     ]
    },
    {
     "name": "stderr",
     "output_type": "stream",
     "text": [
      "[I 2024-12-12 04:30:36,706] Trial 34 finished with value: 0.5563445501441368 and parameters: {'learning_rate': 0.030737766197670765, 'num_leaves': 36, 'min_data_in_leaf': 40, 'max_depth': 7, 'feature_fraction': 0.6888966464858732, 'bagging_fraction': 0.6435793814118518, 'bagging_freq': 4}. Best is trial 23 with value: 0.5706178277088397.\n"
     ]
    },
    {
     "name": "stdout",
     "output_type": "stream",
     "text": [
      "[10]\ttrain's ndcg@10: 0.541837\ttest's ndcg@10: 0.556345\n",
      "[20]\ttrain's ndcg@10: 0.54601\ttest's ndcg@10: 0.556003\n",
      "Early stopping, best iteration is:\n",
      "[10]\ttrain's ndcg@10: 0.541837\ttest's ndcg@10: 0.556345\n",
      "Training until validation scores don't improve for 10 rounds\n"
     ]
    },
    {
     "name": "stderr",
     "output_type": "stream",
     "text": [
      "[I 2024-12-12 04:30:37,040] Trial 35 finished with value: 0.5556711168590012 and parameters: {'learning_rate': 0.010386792035923496, 'num_leaves': 115, 'min_data_in_leaf': 45, 'max_depth': 6, 'feature_fraction': 0.7275942028001056, 'bagging_fraction': 0.8849217864727088, 'bagging_freq': 3}. Best is trial 23 with value: 0.5706178277088397.\n"
     ]
    },
    {
     "name": "stdout",
     "output_type": "stream",
     "text": [
      "[10]\ttrain's ndcg@10: 0.542644\ttest's ndcg@10: 0.549671\n",
      "[20]\ttrain's ndcg@10: 0.543639\ttest's ndcg@10: 0.553388\n",
      "Early stopping, best iteration is:\n",
      "[17]\ttrain's ndcg@10: 0.546284\ttest's ndcg@10: 0.555671\n"
     ]
    },
    {
     "name": "stderr",
     "output_type": "stream",
     "text": [
      "[I 2024-12-12 04:30:37,308] Trial 36 finished with value: 0.5463721385983513 and parameters: {'learning_rate': 0.0036849786754793424, 'num_leaves': 26, 'min_data_in_leaf': 48, 'max_depth': 7, 'feature_fraction': 0.750462688031422, 'bagging_fraction': 0.6796690570173368, 'bagging_freq': 7}. Best is trial 23 with value: 0.5706178277088397.\n"
     ]
    },
    {
     "name": "stdout",
     "output_type": "stream",
     "text": [
      "Training until validation scores don't improve for 10 rounds\n",
      "[10]\ttrain's ndcg@10: 0.528478\ttest's ndcg@10: 0.544631\n",
      "Early stopping, best iteration is:\n",
      "[8]\ttrain's ndcg@10: 0.529043\ttest's ndcg@10: 0.546372\n"
     ]
    },
    {
     "name": "stderr",
     "output_type": "stream",
     "text": [
      "[I 2024-12-12 04:30:37,581] Trial 37 finished with value: 0.5549102707275699 and parameters: {'learning_rate': 0.042988367750870185, 'num_leaves': 21, 'min_data_in_leaf': 30, 'max_depth': 9, 'feature_fraction': 0.7888305372771861, 'bagging_fraction': 0.6145849607101617, 'bagging_freq': 5}. Best is trial 23 with value: 0.5706178277088397.\n"
     ]
    },
    {
     "name": "stdout",
     "output_type": "stream",
     "text": [
      "Training until validation scores don't improve for 10 rounds\n",
      "[10]\ttrain's ndcg@10: 0.535396\ttest's ndcg@10: 0.553637\n",
      "[20]\ttrain's ndcg@10: 0.539031\ttest's ndcg@10: 0.551916\n",
      "Early stopping, best iteration is:\n",
      "[11]\ttrain's ndcg@10: 0.537404\ttest's ndcg@10: 0.55491\n",
      "Training until validation scores don't improve for 10 rounds\n",
      "[10]\ttrain's ndcg@10: 0.529553\ttest's ndcg@10: 0.542307\n",
      "[20]\ttrain's ndcg@10: 0.535615\ttest's ndcg@10: 0.541937\n",
      "Early stopping, best iteration is:\n",
      "[18]\ttrain's ndcg@10: 0.533441\ttest's ndcg@10: 0.544971\n"
     ]
    },
    {
     "name": "stderr",
     "output_type": "stream",
     "text": [
      "[I 2024-12-12 04:30:37,889] Trial 38 finished with value: 0.5449714704642926 and parameters: {'learning_rate': 0.0066429936889476635, 'num_leaves': 30, 'min_data_in_leaf': 26, 'max_depth': 6, 'feature_fraction': 0.9027672327836018, 'bagging_fraction': 0.7566616290063941, 'bagging_freq': 7}. Best is trial 23 with value: 0.5706178277088397.\n"
     ]
    },
    {
     "name": "stdout",
     "output_type": "stream",
     "text": [
      "Training until validation scores don't improve for 10 rounds\n",
      "[10]\ttrain's ndcg@10: 0.550812\ttest's ndcg@10: 0.556752\n",
      "[20]\ttrain's ndcg@10: 0.552678\ttest's ndcg@10: 0.556861\n"
     ]
    },
    {
     "name": "stderr",
     "output_type": "stream",
     "text": [
      "[I 2024-12-12 04:30:38,362] Trial 39 finished with value: 0.5636170878921861 and parameters: {'learning_rate': 0.07362691065184666, 'num_leaves': 55, 'min_data_in_leaf': 36, 'max_depth': 8, 'feature_fraction': 0.9725951521813219, 'bagging_fraction': 0.9341235179178274, 'bagging_freq': 6}. Best is trial 23 with value: 0.5706178277088397.\n"
     ]
    },
    {
     "name": "stdout",
     "output_type": "stream",
     "text": [
      "[30]\ttrain's ndcg@10: 0.554597\ttest's ndcg@10: 0.561435\n",
      "Early stopping, best iteration is:\n",
      "[27]\ttrain's ndcg@10: 0.55341\ttest's ndcg@10: 0.563617\n",
      "Training until validation scores don't improve for 10 rounds\n"
     ]
    },
    {
     "name": "stderr",
     "output_type": "stream",
     "text": [
      "[I 2024-12-12 04:30:38,568] Trial 40 finished with value: 0.5530992789235866 and parameters: {'learning_rate': 0.0016622651135909923, 'num_leaves': 97, 'min_data_in_leaf': 20, 'max_depth': 4, 'feature_fraction': 0.6854380171220145, 'bagging_fraction': 0.6490302041265125, 'bagging_freq': 2}. Best is trial 23 with value: 0.5706178277088397.\n"
     ]
    },
    {
     "name": "stdout",
     "output_type": "stream",
     "text": [
      "[10]\ttrain's ndcg@10: 0.52768\ttest's ndcg@10: 0.544731\n",
      "Early stopping, best iteration is:\n",
      "[2]\ttrain's ndcg@10: 0.518078\ttest's ndcg@10: 0.553099\n",
      "Training until validation scores don't improve for 10 rounds\n",
      "[10]\ttrain's ndcg@10: 0.533642\ttest's ndcg@10: 0.5426\n"
     ]
    },
    {
     "name": "stderr",
     "output_type": "stream",
     "text": [
      "[I 2024-12-12 04:30:38,789] Trial 41 finished with value: 0.5500568503364718 and parameters: {'learning_rate': 0.002408348352492283, 'num_leaves': 99, 'min_data_in_leaf': 46, 'max_depth': 6, 'feature_fraction': 0.923365509261202, 'bagging_fraction': 0.6061242939923652, 'bagging_freq': 6}. Best is trial 23 with value: 0.5706178277088397.\n"
     ]
    },
    {
     "name": "stdout",
     "output_type": "stream",
     "text": [
      "Early stopping, best iteration is:\n",
      "[4]\ttrain's ndcg@10: 0.528411\ttest's ndcg@10: 0.550057\n",
      "Training until validation scores don't improve for 10 rounds\n",
      "[10]\ttrain's ndcg@10: 0.527221\ttest's ndcg@10: 0.555105\n"
     ]
    },
    {
     "name": "stderr",
     "output_type": "stream",
     "text": [
      "[I 2024-12-12 04:30:39,032] Trial 42 finished with value: 0.560926359698824 and parameters: {'learning_rate': 0.0011522569792611179, 'num_leaves': 85, 'min_data_in_leaf': 50, 'max_depth': 5, 'feature_fraction': 0.9830055604701798, 'bagging_fraction': 0.6034675843520987, 'bagging_freq': 7}. Best is trial 23 with value: 0.5706178277088397.\n"
     ]
    },
    {
     "name": "stdout",
     "output_type": "stream",
     "text": [
      "Early stopping, best iteration is:\n",
      "[6]\ttrain's ndcg@10: 0.52772\ttest's ndcg@10: 0.560926\n",
      "Training until validation scores don't improve for 10 rounds\n",
      "[10]\ttrain's ndcg@10: 0.536231\ttest's ndcg@10: 0.55989\n"
     ]
    },
    {
     "name": "stderr",
     "output_type": "stream",
     "text": [
      "[I 2024-12-12 04:30:39,328] Trial 43 finished with value: 0.5598904997345773 and parameters: {'learning_rate': 0.0023578897589511625, 'num_leaves': 92, 'min_data_in_leaf': 41, 'max_depth': 7, 'feature_fraction': 0.9292373284323974, 'bagging_fraction': 0.6661046131041585, 'bagging_freq': 5}. Best is trial 23 with value: 0.5706178277088397.\n"
     ]
    },
    {
     "name": "stdout",
     "output_type": "stream",
     "text": [
      "[20]\ttrain's ndcg@10: 0.537345\ttest's ndcg@10: 0.550927\n",
      "Early stopping, best iteration is:\n",
      "[10]\ttrain's ndcg@10: 0.536231\ttest's ndcg@10: 0.55989\n",
      "Training until validation scores don't improve for 10 rounds\n",
      "[10]\ttrain's ndcg@10: 0.535126\ttest's ndcg@10: 0.543963\n"
     ]
    },
    {
     "name": "stderr",
     "output_type": "stream",
     "text": [
      "[I 2024-12-12 04:30:39,699] Trial 44 finished with value: 0.5594476710382524 and parameters: {'learning_rate': 0.02597946921986006, 'num_leaves': 113, 'min_data_in_leaf': 46, 'max_depth': 6, 'feature_fraction': 0.957611809110601, 'bagging_fraction': 0.6277929211348683, 'bagging_freq': 7}. Best is trial 23 with value: 0.5706178277088397.\n"
     ]
    },
    {
     "name": "stdout",
     "output_type": "stream",
     "text": [
      "[20]\ttrain's ndcg@10: 0.543182\ttest's ndcg@10: 0.551585\n",
      "[30]\ttrain's ndcg@10: 0.54446\ttest's ndcg@10: 0.555341\n",
      "Early stopping, best iteration is:\n",
      "[23]\ttrain's ndcg@10: 0.54385\ttest's ndcg@10: 0.559448\n",
      "Training until validation scores don't improve for 10 rounds\n",
      "[10]\ttrain's ndcg@10: 0.539973\ttest's ndcg@10: 0.550928\n",
      "[20]\ttrain's ndcg@10: 0.541149\ttest's ndcg@10: 0.558237\n"
     ]
    },
    {
     "name": "stderr",
     "output_type": "stream",
     "text": [
      "[I 2024-12-12 04:30:40,101] Trial 45 finished with value: 0.558236948854147 and parameters: {'learning_rate': 0.002852972197967933, 'num_leaves': 106, 'min_data_in_leaf': 44, 'max_depth': 8, 'feature_fraction': 0.8430950791217073, 'bagging_fraction': 0.6926573860367575, 'bagging_freq': 1}. Best is trial 23 with value: 0.5706178277088397.\n"
     ]
    },
    {
     "name": "stdout",
     "output_type": "stream",
     "text": [
      "[30]\ttrain's ndcg@10: 0.544654\ttest's ndcg@10: 0.55242\n",
      "Early stopping, best iteration is:\n",
      "[20]\ttrain's ndcg@10: 0.541149\ttest's ndcg@10: 0.558237\n",
      "Training until validation scores don't improve for 10 rounds\n",
      "[10]\ttrain's ndcg@10: 0.533094\ttest's ndcg@10: 0.549469\n"
     ]
    },
    {
     "name": "stderr",
     "output_type": "stream",
     "text": [
      "[I 2024-12-12 04:30:40,361] Trial 46 finished with value: 0.5494688399110399 and parameters: {'learning_rate': 0.0014412333157777161, 'num_leaves': 41, 'min_data_in_leaf': 32, 'max_depth': 6, 'feature_fraction': 0.9065289296021444, 'bagging_fraction': 0.710462556994714, 'bagging_freq': 6}. Best is trial 23 with value: 0.5706178277088397.\n"
     ]
    },
    {
     "name": "stdout",
     "output_type": "stream",
     "text": [
      "[20]\ttrain's ndcg@10: 0.536046\ttest's ndcg@10: 0.538449\n",
      "Early stopping, best iteration is:\n",
      "[10]\ttrain's ndcg@10: 0.533094\ttest's ndcg@10: 0.549469\n",
      "Training until validation scores don't improve for 10 rounds\n",
      "[10]\ttrain's ndcg@10: 0.539005\ttest's ndcg@10: 0.540034\n"
     ]
    },
    {
     "name": "stderr",
     "output_type": "stream",
     "text": [
      "[I 2024-12-12 04:30:40,700] Trial 47 finished with value: 0.5504706546082022 and parameters: {'learning_rate': 0.004517362312159332, 'num_leaves': 95, 'min_data_in_leaf': 49, 'max_depth': 7, 'feature_fraction': 0.6558823006894032, 'bagging_fraction': 0.6367007128946671, 'bagging_freq': 3}. Best is trial 23 with value: 0.5706178277088397.\n"
     ]
    },
    {
     "name": "stdout",
     "output_type": "stream",
     "text": [
      "[20]\ttrain's ndcg@10: 0.540186\ttest's ndcg@10: 0.547529\n",
      "Early stopping, best iteration is:\n",
      "[15]\ttrain's ndcg@10: 0.538464\ttest's ndcg@10: 0.550471\n",
      "Training until validation scores don't improve for 10 rounds\n",
      "[10]\ttrain's ndcg@10: 0.542886\ttest's ndcg@10: 0.553626\n",
      "[20]\ttrain's ndcg@10: 0.545247\ttest's ndcg@10: 0.55541\n",
      "[30]\ttrain's ndcg@10: 0.547135\ttest's ndcg@10: 0.553068\n",
      "Early stopping, best iteration is:\n",
      "[23]\ttrain's ndcg@10: 0.5496\ttest's ndcg@10: 0.55816\n"
     ]
    },
    {
     "name": "stderr",
     "output_type": "stream",
     "text": [
      "[I 2024-12-12 04:30:41,079] Trial 48 finished with value: 0.5581599397496507 and parameters: {'learning_rate': 0.01728515972244631, 'num_leaves': 63, 'min_data_in_leaf': 27, 'max_depth': 9, 'feature_fraction': 0.7221203121265515, 'bagging_fraction': 0.7297118435435475, 'bagging_freq': 5}. Best is trial 23 with value: 0.5706178277088397.\n"
     ]
    },
    {
     "name": "stdout",
     "output_type": "stream",
     "text": [
      "Training until validation scores don't improve for 10 rounds\n",
      "[10]\ttrain's ndcg@10: 0.540614\ttest's ndcg@10: 0.554689\n",
      "[20]\ttrain's ndcg@10: 0.544433\ttest's ndcg@10: 0.557489\n"
     ]
    },
    {
     "name": "stderr",
     "output_type": "stream",
     "text": [
      "[I 2024-12-12 04:30:41,464] Trial 49 finished with value: 0.5585128007425383 and parameters: {'learning_rate': 0.04915899816918977, 'num_leaves': 103, 'min_data_in_leaf': 39, 'max_depth': 8, 'feature_fraction': 0.6269828306523479, 'bagging_fraction': 0.7484716718963251, 'bagging_freq': 8}. Best is trial 23 with value: 0.5706178277088397.\n"
     ]
    },
    {
     "name": "stdout",
     "output_type": "stream",
     "text": [
      "Early stopping, best iteration is:\n",
      "[18]\ttrain's ndcg@10: 0.543581\ttest's ndcg@10: 0.558513\n",
      "Best hyperparameters: {'learning_rate': 0.013705150021501142, 'num_leaves': 62, 'min_data_in_leaf': 44, 'max_depth': 8, 'feature_fraction': 0.737022534793367, 'bagging_fraction': 0.68299068522948, 'bagging_freq': 6}\n",
      "Best NDCG@10: 0.5706178277088397\n",
      "Training until validation scores don't improve for 30 rounds\n",
      "[10]\ttrain's ndcg@10: 0.540965\ttest's ndcg@10: 0.553052\n",
      "[20]\ttrain's ndcg@10: 0.547201\ttest's ndcg@10: 0.56606\n",
      "[30]\ttrain's ndcg@10: 0.546773\ttest's ndcg@10: 0.566791\n",
      "[40]\ttrain's ndcg@10: 0.546779\ttest's ndcg@10: 0.563714\n",
      "[50]\ttrain's ndcg@10: 0.548396\ttest's ndcg@10: 0.561366\n",
      "Early stopping, best iteration is:\n",
      "[28]\ttrain's ndcg@10: 0.548523\ttest's ndcg@10: 0.570618\n",
      "Best model saved.\n"
     ]
    },
    {
     "data": {
      "image/png": "[encoded data removed]",
      "text/plain": [
       "<Figure size 1000x600 with 1 Axes>"
      ]
     },
     "metadata": {},
     "output_type": "display_data"
    }
   ],
   "source": [
    "#开始训练 静态特征 lambda\n",
    "\n",
    "import optuna\n",
    "import lightgbm as lgb\n",
    "import matplotlib.pyplot as plt\n",
    "\n",
    "# 自定义评估记录回调\n",
    "class RecordEvalCallback:\n",
    "    def __init__(self):\n",
    "        self.evals_result = {'train': {}, 'test': {}}\n",
    "\n",
    "    def __call__(self, env):\n",
    "        for data_name, eval_name, result, _ in env.evaluation_result_list:\n",
    "            if eval_name not in self.evals_result[data_name]:\n",
    "                self.evals_result[data_name][eval_name] = []\n",
    "            self.evals_result[data_name][eval_name].append(result)\n",
    "\n",
    "# 目标函数\n",
    "def objective(trial):\n",
    "    params = {\n",
    "        'objective': 'lambdarank',\n",
    "        'metric': 'ndcg',\n",
    "        'boosting_type': 'gbdt',\n",
    "        'ndcg_eval_at': [10],\n",
    "        'learning_rate': trial.suggest_float('learning_rate', 0.001, 0.1, log=True),\n",
    "        'num_leaves': trial.suggest_int('num_leaves', 16, 128),\n",
    "        'min_data_in_leaf': trial.suggest_int('min_data_in_leaf', 5, 50),\n",
    "        'max_depth': trial.suggest_int('max_depth', 3, 10),\n",
    "        'feature_fraction': trial.suggest_float('feature_fraction', 0.6, 1.0),\n",
    "        'bagging_fraction': trial.suggest_float('bagging_fraction', 0.6, 1.0),\n",
    "        'bagging_freq': trial.suggest_int('bagging_freq', 1, 10),\n",
    "        'verbose': -1,\n",
    "    }\n",
    "\n",
    "    train_data = lgb.Dataset(X_train, label=y_train, group=groups_train)\n",
    "    test_data = lgb.Dataset(X_test, label=y_test, group=groups_test, reference=train_data)\n",
    "\n",
    "    eval_callback = RecordEvalCallback()\n",
    "\n",
    "    model = lgb.train(\n",
    "        params,\n",
    "        train_data,\n",
    "        num_boost_round=100,\n",
    "        valid_sets=[train_data, test_data],\n",
    "        valid_names=['train', 'test'],\n",
    "        callbacks=[\n",
    "            lgb.early_stopping(stopping_rounds=10),\n",
    "            lgb.log_evaluation(period=10),\n",
    "            eval_callback,\n",
    "        ],\n",
    "    )\n",
    "\n",
    "    best_ndcg_at_10 = max(eval_callback.evals_result['test']['ndcg@10'])\n",
    "    return best_ndcg_at_10\n",
    "\n",
    "# 开始超参数搜索\n",
    "study = optuna.create_study(direction='maximize')\n",
    "study.optimize(objective, n_trials=50)\n",
    "\n",
    "# 输出最佳参数\n",
    "print(\"Best hyperparameters:\", study.best_params)\n",
    "print(\"Best NDCG@10:\", study.best_value)\n",
    "\n",
    "# 使用最佳参数重新训练模型\n",
    "best_params = study.best_params\n",
    "best_params.update({'objective': 'lambdarank', 'metric': 'ndcg', 'ndcg_eval_at': [10]})\n",
    "\n",
    "train_data = lgb.Dataset(X_train, label=y_train, group=groups_train)\n",
    "test_data = lgb.Dataset(X_test, label=y_test, group=groups_test, reference=train_data)\n",
    "\n",
    "eval_callback = RecordEvalCallback()\n",
    "model = lgb.train(\n",
    "    best_params,\n",
    "    train_data,\n",
    "    num_boost_round=200,\n",
    "    valid_sets=[train_data, test_data],\n",
    "    valid_names=['train', 'test'],\n",
    "    callbacks=[\n",
    "        lgb.log_evaluation(period=10),\n",
    "        lgb.early_stopping(stopping_rounds=30),\n",
    "        eval_callback,\n",
    "    ],\n",
    ")\n",
    "\n",
    "# 保存最佳模型\n",
    "model.save_model(\"lambda_mart_best_model_optuna.bin\")\n",
    "print(\"Best model saved.\")\n",
    "\n",
    "# 绘制 NDCG 曲线\n",
    "plt.figure(figsize=(10, 6))\n",
    "plt.plot(eval_callback.evals_result['train']['ndcg@10'], label='Train NDCG@10')\n",
    "plt.plot(eval_callback.evals_result['test']['ndcg@10'], label='Test NDCG@10')\n",
    "plt.xlabel('Boosting Rounds')\n",
    "plt.ylabel('NDCG@10')\n",
    "plt.title('NDCG@10 During Training')\n",
    "plt.legend()\n",
    "plt.grid(True)\n",
    "plt.show()\n",
    "\n"
   ]
  },
  {
   "cell_type": "code",
   "execution_count": 36,
   "metadata": {},
   "outputs": [
    {
     "name": "stdout",
     "output_type": "stream",
     "text": [
      "                                                   title  static_score\n",
      "5900   Rurouni Kenshin: Meiji Kenkaku Romantan - Shin...     -0.419620\n",
      "4854   Crayon Shin-chan Movie 04: Henderland no Daibo...     -0.433543\n",
      "10520                                      Suijungenten​     -0.434631\n",
      "9146                                         Kaguya-hime     -0.461545\n",
      "9450                        Futa-bu! Mix: Futanari World     -0.493133\n",
      "...                                                  ...           ...\n",
      "8778                                              Dreams     -0.533547\n",
      "8665                                           Ehon Yose     -0.533547\n",
      "8000                                       Calligraffiti     -0.533547\n",
      "7749                                              a_caFe     -0.533547\n",
      "9019                                               Stone     -0.533547\n",
      "\n",
      "[100 rows x 2 columns]\n"
     ]
    },
    {
     "name": "stderr",
     "output_type": "stream",
     "text": [
      "C:\\Users\\15023\\AppData\\Local\\Temp\\ipykernel_359176\\673878479.py:54: SettingWithCopyWarning: \n",
      "A value is trying to be set on a copy of a slice from a DataFrame.\n",
      "Try using .loc[row_indexer,col_indexer] = value instead\n",
      "\n",
      "See the caveats in the documentation: https://pandas.pydata.org/pandas-docs/stable/user_guide/indexing.html#returning-a-view-versus-a-copy\n",
      "  filtered_anime_data['static_score'] = static_scores\n"
     ]
    }
   ],
   "source": [
    "#尝试单独输入 list of string 来使用模型打分 ， 静态特征部分\n",
    "\n",
    "\n",
    "\n",
    "import pandas as pd\n",
    "\n",
    "# 读取完整动漫数据\n",
    "anime_data_path = \"C:/Users/15023/Desktop/IR/Project/user_data/final_anime_list_cleaned_3rd_normal.csv\"\n",
    "anime_data = pd.read_csv(anime_data_path)\n",
    "\n",
    "# 提取指定标题的特征\n",
    "anime_titles = [\n",
    "    'Kyoto Animation: Megane-hen', 'Odoroki Ban', 'Hyoutan', 'Telemonster', 'Doudou', 'a_caFe', \n",
    "    'Metamorphose', 'Zawazawa', 'Mormorando', 'Fantasy', 'Spectral Force Chronicle Divergence',\n",
    "    'Kyoto Animation: Ajisai-hen', 'Kyoto Animation: Kasa-hen', 'Ehon Yose', 'Ten',\n",
    "    'Kyoto Animation: Ikitaku Naru Omise-hen', 'Animation!', 'Kaitou Jigoma Ongaku-hen', 'Kiseki',\n",
    "    'Fashion', 'Sarasoujuu no Hana no Iro', 'Shin Tenchi Souzou', 'Kage', 'Ki Renka',\n",
    "    'Ai Sky Tree 21', 'Otoko to Onna to Inu', 'Memory of Red', 'Ninja Hattori-kun: Nin Nin Ninpo Enikki no Maki',\n",
    "    'Baka Mukashibanashi Movie: Jijii Wars', 'Recorder', 'Calm', 'Kiseichuu no Ichiya',\n",
    "    'Jungle Taitei Leo: Hon-o-ji', 'Requiem (ONA)', 'Shigeru', 'Tokai no Butchy', 'Ai', 'Mado',\n",
    "    'Futa-bu! Mix: Futanari World', 'Taku Boda', 'The Gakuen Choujo-tai', 'Calligraffiti',\n",
    "    'Yaiyai Mori no Comic', 'Hokuro Kyoudai Full Throttle!!!!', 'Color Noise', 'Umi Da! Funade Da! Nikoniko, Pun',\n",
    "    'Tsuiseki', 'Jikan', 'Sensuikan Cassiopeia', 'Scripta Volant', 'Hakuchuu Meikyuu', 'Landmark',\n",
    "    'Aya Hito Shiki to Iu na no Ishi Hata', 'Rurouni Kenshin: Meiji Kenkaku Romantan - Shin Kyoto-hen',\n",
    "    'Kizuna (Special)', 'Bokutachi no Peace River', 'Chanda Gou', 'Futari Zamurai Homare no Kawakiri',\n",
    "    'Petit Manga', 'Paper Film', 'Nani ga Dekiru ka na', 'Yakusoku', 'Hana no Hanashi', \n",
    "    'Arigatou Gomennasai', 'Teddy', 'Kuripuri*Kuripura', 'Joukyou Monogatari', 'Rule', 'Murder',\n",
    "    'Crayon Shin-chan Movie 04: Henderland no Daibouken', 'Poron Guitar', 'Kitsutsuki Keikaku', \n",
    "    'Ojiichan ga Kaizoku Datta Koro', 'Fushigi na Kusuri', 'Manyuu Hikenchou Specials', 'Itsumademo Tabibito',\n",
    "    'Manga', 'G-senjou no Higeki', 'Seishun Anime Zenshuu', 'Miss Monochrome: Music Clips', 'Wheels',\n",
    "    'Kimi ni Maji Kyun!', 'Tsuru no Ongaeshi', 'King of Prism by Pretty Rhythm Short Anime', 'Yowamushi Monsters',\n",
    "    'Dreams', 'Sangokushi (1985)', 'Korekarasaki, Nando Anata to.', 'Sin: Nanatsu no Taizai Zange-roku',\n",
    "    'Kaze no Kokyuu: Animation ni Yoru Oufuku Shokan', 'Kaguya-hime', 'Francesca', 'Nido to Mezamenu Komori Uta',\n",
    "    'Ninja Hattori-kun (2012)', 'Manga Nihon Emaki', 'Suijungenten\\u200b', 'Umi kara no Shisha', \n",
    "    'Ao Oni The Animation (Movie)', 'Stone', 'Neo Satomi Hakkenden: Satomi-chanchi no Hachi Danshi'\n",
    "]\n",
    "\n",
    "# 筛选标题对应的特征\n",
    "filtered_anime_data = anime_data[anime_data['title'].isin(anime_titles)]\n",
    "\n",
    "\n",
    "# 加载训练好的模型\n",
    "model_path = \"lambda_mart_best_model_optuna.bin\"\n",
    "model = lgb.Booster(model_file=model_path)\n",
    "\n",
    "# 特征列\n",
    "features = [\"score\", \"rank_normalized\", \"popularity_log\", \"favorites_log\", \"scored_by_log\", \"members_log\"]\n",
    "\n",
    "# 预测静态评分\n",
    "filtered_anime_features = filtered_anime_data[features]\n",
    "static_scores = model.predict(filtered_anime_features)\n",
    "\n",
    "# 添加评分到数据框\n",
    "filtered_anime_data['static_score'] = static_scores\n",
    "\n",
    "# 按照评分降序排序\n",
    "sorted_anime_data = filtered_anime_data.sort_values(by='static_score', ascending=False)\n",
    "\n",
    "# 打印前 10 部动漫\n",
    "print(sorted_anime_data[['title', 'static_score']].head(100))\n"
   ]
  },
  {
   "cell_type": "code",
   "execution_count": 41,
   "metadata": {},
   "outputs": [
    {
     "name": "stdout",
     "output_type": "stream",
     "text": [
      "Parsing existing embeddings...\n",
      "Calculating title and synopsis similarities...\n",
      "Calculating producers and studios similarities...\n",
      "Calculating genre similarity...\n",
      "Combining all similarity scores...\n",
      "                                                   title  dynamic_score\n",
      "6261                         Kyoto Animation: Ajisai-hen       0.506756\n",
      "6977                         Kyoto Animation: Megane-hen       0.503289\n",
      "6978                           Kyoto Animation: Kasa-hen       0.500900\n",
      "6979                          Kyoto Animation: Suiei-hen       0.469093\n",
      "6975             Kyoto Animation: Ikitaku Naru Omise-hen       0.411038\n",
      "488                    Ayakashi: Japanese Classic Horror       0.401124\n",
      "7179                            Ninja Hattori-kun (2012)       0.381855\n",
      "12184  Kyoto Animation Koushiki Twitter: Itsumo Arigatou       0.374909\n",
      "5203           Chibi Maruko-chan: Watashi no Suki na Uta       0.373832\n",
      "4824          SD Gundam Sangokuden Brave Battle Warriors       0.373711\n"
     ]
    }
   ],
   "source": [
    "#尝试动态query 部分打分\n",
    "\n",
    "import pandas as pd\n",
    "from sentence_transformers import SentenceTransformer\n",
    "from sklearn.metrics.pairwise import cosine_similarity\n",
    "import ast\n",
    "\n",
    "# 加载数据\n",
    "file_path = \"C:/Users/15023/Desktop/IR/Project/user_data/final_anime_list_cleaned_3rd_normal.csv\"\n",
    "data = pd.read_csv(file_path)\n",
    "\n",
    "# 查询关键词\n",
    "query = \"I want something like Demon Slayer, but with more romance and produced by Kyoto Animation\"\n",
    "\n",
    "# 初始化预训练的 SentenceTransformer 模型\n",
    "model = SentenceTransformer('all-MiniLM-L6-v2')\n",
    "\n",
    "# 计算查询的嵌入\n",
    "query_embedding = model.encode([query])\n",
    "\n",
    "# 修复数据格式\n",
    "def parse_embedding(embedding_str):\n",
    "    \"\"\"修复并解析嵌入向量的格式\"\"\"\n",
    "    try:\n",
    "        # 安全解析嵌入\n",
    "        return ast.literal_eval(embedding_str)\n",
    "    except (ValueError, SyntaxError):\n",
    "        # 如果解析失败，尝试修复格式\n",
    "        cleaned_str = embedding_str.replace(\"\\n\", \"\").replace(\" \", \",\").replace(\",,\", \",\").strip(\"[]\")\n",
    "        try:\n",
    "            return [float(x) for x in cleaned_str.split(\",\")]\n",
    "        except ValueError:\n",
    "            # 如果仍然失败，返回空列表或默认值\n",
    "            return []\n",
    "\n",
    "print(\"Parsing existing embeddings...\")\n",
    "\n",
    "# 修复并解析嵌入列\n",
    "data['title_embedding'] = data['title_embedding'].apply(parse_embedding)\n",
    "data['synopsis_embedding'] = data['synopsis_embedding'].apply(parse_embedding)\n",
    "data['producers_embedding'] = data['producers_embedding'].apply(parse_embedding)\n",
    "data['studios_embedding'] = data['studios_embedding'].apply(parse_embedding)\n",
    "\n",
    "# Step 1: 计算标题与 Synopsis 的相似度\n",
    "print(\"Calculating title and synopsis similarities...\")\n",
    "\n",
    "# 计算与 title 的相似度\n",
    "data['title_similarity'] = data['title_embedding'].apply(\n",
    "    lambda x: cosine_similarity([x], query_embedding)[0][0] if len(x) > 0 else 0\n",
    ")\n",
    "\n",
    "# 计算与 synopsis 的相似度\n",
    "data['synopsis_similarity'] = data['synopsis_embedding'].apply(\n",
    "    lambda x: cosine_similarity([x], query_embedding)[0][0] if len(x) > 0 else 0\n",
    ")\n",
    "\n",
    "# Step 2: 计算制片人和工作室的相似度\n",
    "print(\"Calculating producers and studios similarities...\")\n",
    "\n",
    "# 计算与 producers 的相似度\n",
    "data['producers_similarity'] = data['producers_embedding'].apply(\n",
    "    lambda x: cosine_similarity([x], query_embedding)[0][0] if len(x) > 0 else 0\n",
    ")\n",
    "\n",
    "# 计算与 studios 的相似度\n",
    "data['studios_similarity'] = data['studios_embedding'].apply(\n",
    "    lambda x: cosine_similarity([x], query_embedding)[0][0] if len(x) > 0 else 0\n",
    ")\n",
    "\n",
    "# Step 3: 计算类别相关性\n",
    "print(\"Calculating genre similarity...\")\n",
    "\n",
    "genre_columns = [\n",
    "    'Demons', 'Romance', 'Action', 'Adventure', 'Avant Garde', 'Award Winning',\n",
    "    'Boys Love', 'Cars', 'Comedy', 'Dementia', 'Drama', 'Ecchi', 'Erotica',\n",
    "    'Fantasy', 'Game', 'Girls Love', 'Gourmet', 'Harem', 'Hentai', 'Historical',\n",
    "    'Horror', 'Josei', 'Kids', 'Magic', 'Martial Arts', 'Mecha', 'Military',\n",
    "    'Music', 'Mystery', 'Parody', 'Police', 'Psychological', 'Samurai', 'School',\n",
    "    'Sci-Fi', 'Seinen', 'Shoujo', 'Shounen', 'Slice of Life', 'Space', 'Sports',\n",
    "    'Super Power', 'Supernatural', 'Suspense', 'Thriller', 'Vampire', 'Yaoi', 'Yuri'\n",
    "]\n",
    "\n",
    "def calculate_genre_similarity(row, query):\n",
    "    query_lower = query.lower()\n",
    "    matches = sum([1 for genre in genre_columns if genre.lower() in query_lower and row.get(genre, 0) == 1])\n",
    "    return matches / len(genre_columns)\n",
    "\n",
    "data['genre_similarity'] = data.apply(lambda row: calculate_genre_similarity(row, query), axis=1)\n",
    "\n",
    "# Step 4: 综合评分\n",
    "print(\"Combining all similarity scores...\")\n",
    "\n",
    "data['dynamic_score'] = (\n",
    "    0.3 * data['title_similarity'] +\n",
    "    0.3 * data['synopsis_similarity'] +\n",
    "    0.2 * data['producers_similarity'] +\n",
    "    0.1 * data['studios_similarity'] +\n",
    "    0.1 * data['genre_similarity']\n",
    ")\n",
    "\n",
    "# 排序并显示结果\n",
    "data = data.sort_values(by='dynamic_score', ascending=False)\n",
    "print(data[['title', 'dynamic_score']].head(10))\n",
    "\n",
    "\n",
    "\n",
    "\n",
    "\n"
   ]
  },
  {
   "cell_type": "code",
   "execution_count": 49,
   "metadata": {},
   "outputs": [
    {
     "name": "stdout",
     "output_type": "stream",
     "text": [
      "                                                   title  static_score  \\\n",
      "6978                           Kyoto Animation: Kasa-hen     -0.495937   \n",
      "6261                         Kyoto Animation: Ajisai-hen     -0.523366   \n",
      "6977                         Kyoto Animation: Megane-hen     -0.523321   \n",
      "6975             Kyoto Animation: Ikitaku Naru Omise-hen     -0.523366   \n",
      "4854   Crayon Shin-chan Movie 04: Henderland no Daibo...     -0.433543   \n",
      "5900   Rurouni Kenshin: Meiji Kenkaku Romantan - Shin...     -0.419620   \n",
      "3472                               Seishun Anime Zenshuu     -0.525787   \n",
      "7179                            Ninja Hattori-kun (2012)     -0.531347   \n",
      "9377                                  Joukyou Monogatari     -0.533547   \n",
      "10363         King of Prism by Pretty Rhythm Short Anime     -0.531347   \n",
      "\n",
      "       dynamic_score  final_score  \n",
      "6978        0.459180     0.172645  \n",
      "6261        0.465036     0.168515  \n",
      "6977        0.461569     0.166102  \n",
      "6975        0.426972     0.141870  \n",
      "4854        0.361206     0.122782  \n",
      "5900        0.319080     0.097470  \n",
      "3472        0.358674     0.093335  \n",
      "7179        0.358908     0.091831  \n",
      "9377        0.330982     0.071623  \n",
      "10363       0.323715     0.067197  \n"
     ]
    }
   ],
   "source": [
    "\n",
    "#动态评分，静态评分结合\n",
    "\n",
    "\n",
    "import pandas as pd\n",
    "from sentence_transformers import SentenceTransformer\n",
    "from sklearn.metrics.pairwise import cosine_similarity\n",
    "import lightgbm as lgb\n",
    "import ast\n",
    "\n",
    "# 加载完整数据\n",
    "anime_data_path = \"C:/Users/15023/Desktop/IR/Project/user_data/final_anime_list_cleaned_3rd_normal.csv\"\n",
    "anime_data = pd.read_csv(anime_data_path)\n",
    "\n",
    "# 查询关键词和动漫标题\n",
    "query = \"I want something like Demon Slayer, but with more romance and produced by Kyoto Animation\"\n",
    "#query = \"Rurouni Kenshin\"\n",
    "anime_titles = [\n",
    "    'Kyoto Animation: Megane-hen', 'Odoroki Ban', 'Hyoutan', 'Telemonster', 'Doudou', 'a_caFe', \n",
    "    'Metamorphose', 'Zawazawa', 'Mormorando', 'Fantasy', 'Spectral Force Chronicle Divergence',\n",
    "    'Kyoto Animation: Ajisai-hen', 'Kyoto Animation: Kasa-hen', 'Ehon Yose', 'Ten',\n",
    "    'Kyoto Animation: Ikitaku Naru Omise-hen', 'Animation!', 'Kaitou Jigoma Ongaku-hen', 'Kiseki',\n",
    "    'Fashion', 'Sarasoujuu no Hana no Iro', 'Shin Tenchi Souzou', 'Kage', 'Ki Renka',\n",
    "    'Ai Sky Tree 21', 'Otoko to Onna to Inu', 'Memory of Red', 'Ninja Hattori-kun: Nin Nin Ninpo Enikki no Maki',\n",
    "    'Baka Mukashibanashi Movie: Jijii Wars', 'Recorder', 'Calm', 'Kiseichuu no Ichiya',\n",
    "    'Jungle Taitei Leo: Hon-o-ji', 'Requiem (ONA)', 'Shigeru', 'Tokai no Butchy', 'Ai', 'Mado',\n",
    "    'Futa-bu! Mix: Futanari World', 'Taku Boda', 'The Gakuen Choujo-tai', 'Calligraffiti',\n",
    "    'Yaiyai Mori no Comic', 'Hokuro Kyoudai Full Throttle!!!!', 'Color Noise', 'Umi Da! Funade Da! Nikoniko, Pun',\n",
    "    'Tsuiseki', 'Jikan', 'Sensuikan Cassiopeia', 'Scripta Volant', 'Hakuchuu Meikyuu', 'Landmark',\n",
    "    'Aya Hito Shiki to Iu na no Ishi Hata', 'Rurouni Kenshin: Meiji Kenkaku Romantan - Shin Kyoto-hen',\n",
    "    'Kizuna (Special)', 'Bokutachi no Peace River', 'Chanda Gou', 'Futari Zamurai Homare no Kawakiri',\n",
    "    'Petit Manga', 'Paper Film', 'Nani ga Dekiru ka na', 'Yakusoku', 'Hana no Hanashi', \n",
    "    'Arigatou Gomennasai', 'Teddy', 'Kuripuri*Kuripura', 'Joukyou Monogatari', 'Rule', 'Murder',\n",
    "    'Crayon Shin-chan Movie 04: Henderland no Daibouken', 'Poron Guitar', 'Kitsutsuki Keikaku', \n",
    "    'Ojiichan ga Kaizoku Datta Koro', 'Fushigi na Kusuri', 'Manyuu Hikenchou Specials', 'Itsumademo Tabibito',\n",
    "    'Manga', 'G-senjou no Higeki', 'Seishun Anime Zenshuu', 'Miss Monochrome: Music Clips', 'Wheels',\n",
    "    'Kimi ni Maji Kyun!', 'Tsuru no Ongaeshi', 'King of Prism by Pretty Rhythm Short Anime', 'Yowamushi Monsters',\n",
    "    'Dreams', 'Sangokushi (1985)', 'Korekarasaki, Nando Anata to.', 'Sin: Nanatsu no Taizai Zange-roku',\n",
    "    'Kaze no Kokyuu: Animation ni Yoru Oufuku Shokan', 'Kaguya-hime', 'Francesca', 'Nido to Mezamenu Komori Uta',\n",
    "    'Ninja Hattori-kun (2012)', 'Manga Nihon Emaki', 'Suijungenten\\u200b', 'Umi kara no Shisha', \n",
    "    'Ao Oni The Animation (Movie)', 'Stone', 'Neo Satomi Hakkenden: Satomi-chanchi no Hachi Danshi'\n",
    "]\n",
    "\n",
    "# 筛选标题对应的特征\n",
    "filtered_anime_data = anime_data[anime_data['title'].isin(anime_titles)].copy()\n",
    "\n",
    "# 加载训练好的模型\n",
    "model_path = \"lambda_mart_best_model_optuna.bin\"\n",
    "model = lgb.Booster(model_file=model_path)\n",
    "\n",
    "# 特征列\n",
    "features = [\"score\", \"rank_normalized\", \"popularity_log\", \"favorites_log\", \"scored_by_log\", \"members_log\"]\n",
    "\n",
    "# 预测静态评分\n",
    "filtered_anime_features = filtered_anime_data[features]\n",
    "static_scores = model.predict(filtered_anime_features)\n",
    "\n",
    "# 添加静态评分到数据框\n",
    "filtered_anime_data.loc[:, 'static_score'] = static_scores\n",
    "\n",
    "# 初始化 SentenceTransformer 模型\n",
    "sentence_model = SentenceTransformer('all-MiniLM-L6-v2')\n",
    "query_embedding = sentence_model.encode([query])\n",
    "\n",
    "# 修复嵌入格式的函数\n",
    "def parse_embedding(embedding_str):\n",
    "    \"\"\"修复并解析嵌入向量的格式\"\"\"\n",
    "    if not isinstance(embedding_str, str) or embedding_str.strip() == \"\":\n",
    "        return []\n",
    "    try:\n",
    "        return ast.literal_eval(embedding_str)\n",
    "    except (ValueError, SyntaxError):\n",
    "        cleaned_str = embedding_str.replace(\"\\n\", \"\").replace(\" \", \",\").replace(\",,\", \",\").strip(\"[]\")\n",
    "        try:\n",
    "            return [float(x) for x in cleaned_str.split(\",\") if x.strip() != \"\"]\n",
    "        except ValueError:\n",
    "            return []\n",
    "\n",
    "# 修复嵌入列\n",
    "filtered_anime_data.loc[:, 'title_embedding'] = filtered_anime_data['title_embedding'].apply(parse_embedding)\n",
    "filtered_anime_data.loc[:, 'synopsis_embedding'] = filtered_anime_data['synopsis_embedding'].apply(parse_embedding)\n",
    "filtered_anime_data.loc[:, 'producers_embedding'] = filtered_anime_data['producers_embedding'].apply(parse_embedding)\n",
    "filtered_anime_data.loc[:, 'studios_embedding'] = filtered_anime_data['studios_embedding'].apply(parse_embedding)\n",
    "\n",
    "# 动态评分计算：标题与简介相似度\n",
    "filtered_anime_data.loc[:, 'title_similarity'] = filtered_anime_data['title_embedding'].apply(\n",
    "    lambda x: cosine_similarity([x], query_embedding)[0][0] if len(x) > 0 else 0\n",
    ")\n",
    "\n",
    "filtered_anime_data.loc[:, 'synopsis_similarity'] = filtered_anime_data['synopsis_embedding'].apply(\n",
    "    lambda x: cosine_similarity([x], query_embedding)[0][0] if len(x) > 0 else 0\n",
    ")\n",
    "\n",
    "# 动态评分计算：制片人与工作室相似度\n",
    "filtered_anime_data.loc[:, 'producers_similarity'] = filtered_anime_data['producers_embedding'].apply(\n",
    "    lambda x: cosine_similarity([x], query_embedding)[0][0] if len(x) > 0 else 0\n",
    ")\n",
    "\n",
    "filtered_anime_data.loc[:, 'studios_similarity'] = filtered_anime_data['studios_embedding'].apply(\n",
    "    lambda x: cosine_similarity([x], query_embedding)[0][0] if len(x) > 0 else 0\n",
    ")\n",
    "\n",
    "# 计算类别相关性\n",
    "genre_columns = [\n",
    "    'Demons', 'Romance', 'Action', 'Adventure', 'Avant Garde', 'Award Winning',\n",
    "    'Boys Love', 'Cars', 'Comedy', 'Dementia', 'Drama', 'Ecchi', 'Erotica',\n",
    "    'Fantasy', 'Game', 'Girls Love', 'Gourmet', 'Harem', 'Hentai', 'Historical',\n",
    "    'Horror', 'Josei', 'Kids', 'Magic', 'Martial Arts', 'Mecha', 'Military',\n",
    "    'Music', 'Mystery', 'Parody', 'Police', 'Psychological', 'Samurai', 'School',\n",
    "    'Sci-Fi', 'Seinen', 'Shoujo', 'Shounen', 'Slice of Life', 'Space', 'Sports',\n",
    "    'Super Power', 'Supernatural', 'Suspense', 'Thriller', 'Vampire', 'Yaoi', 'Yuri'\n",
    "]\n",
    "\n",
    "def calculate_genre_similarity(row, query):\n",
    "    query_lower = query.lower()\n",
    "    matches = sum([1 for genre in genre_columns if genre.lower() in query_lower and row.get(genre, 0) == 1])\n",
    "    return matches / len(genre_columns)\n",
    "\n",
    "filtered_anime_data.loc[:, 'genre_similarity'] = filtered_anime_data.apply(\n",
    "    lambda row: calculate_genre_similarity(row, query), axis=1\n",
    ")\n",
    "\n",
    "# 动态评分综合计算\n",
    "filtered_anime_data.loc[:, 'dynamic_score'] = (\n",
    "    0.4 * filtered_anime_data['title_similarity'] +\n",
    "    0.2 * filtered_anime_data['synopsis_similarity'] +\n",
    "    0.1 * filtered_anime_data['producers_similarity'] +\n",
    "    0.1 * filtered_anime_data['studios_similarity'] +\n",
    "    0.2 * filtered_anime_data['genre_similarity']\n",
    ")\n",
    "\n",
    "# 最终综合评分\n",
    "filtered_anime_data.loc[:, 'final_score'] = (\n",
    "    0.7 * filtered_anime_data['dynamic_score'] + 0.3 * filtered_anime_data['static_score']\n",
    ")\n",
    "\n",
    "# 按最终得分排序\n",
    "sorted_anime_data = filtered_anime_data.sort_values(by='final_score', ascending=False)\n",
    "\n",
    "# 打印结果\n",
    "print(sorted_anime_data[['title', 'static_score', 'dynamic_score', 'final_score']].head(10))\n"
   ]
  },
  {
   "cell_type": "code",
   "execution_count": null,
   "metadata": {},
   "outputs": [],
   "source": []
  }
 ],
 "metadata": {
  "kernelspec": {
   "display_name": "pytorch",
   "language": "python",
   "name": "pytorch"
  },
  "language_info": {
   "codemirror_mode": {
    "name": "ipython",
    "version": 3
   },
   "file_extension": ".py",
   "mimetype": "text/x-python",
   "name": "python",
   "nbconvert_exporter": "python",
   "pygments_lexer": "ipython3",
   "version": "3.10.14"
  }
 },
 "nbformat": 4,
 "nbformat_minor": 2
}
